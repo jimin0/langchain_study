{
 "cells": [
  {
   "cell_type": "markdown",
   "metadata": {},
   "source": [
    "## API Key 테스트"
   ]
  },
  {
   "cell_type": "code",
   "execution_count": 9,
   "metadata": {},
   "outputs": [],
   "source": [
    "import os\n",
    "from dotenv import load_dotenv\n",
    "import openai\n",
    "import requests\n",
    "\n",
    "# .env 파일 로드\n",
    "load_dotenv()\n",
    "\n",
    "# 환경 변수에서 API 키 가져오기\n",
    "openai_api_key = os.getenv(\"OPENAI_API_KEY\")\n",
    "huggingfacehub_api_token = os.getenv(\"HUGGINGFACEHUB_API_TOKEN\")\n",
    "langchain_tracing_v2 = os.getenv(\"LANGCHAIN_TRACING_V2\")\n",
    "langchain_endpoint = os.getenv(\"LANGCHAIN_ENDPOINT\")\n",
    "langchain_api_key = os.getenv(\"LANGCHAIN_API_KEY\")\n",
    "langchain_project = os.getenv(\"LANGCHAIN_PROJECT\")\n",
    "tavily_api_key = os.getenv(\"TAVILY_API_KEY\")\n",
    "google_api_key = os.getenv(\"GOOGLE_API_KEY\")\n",
    "pinecone_api_key = os.getenv(\"PINECONE_API_KEY\")\n",
    "pinecone_environment_key = os.getenv(\"PINECONE_ENVIRONMENT_KEY\")\n",
    "serpapi_api_key = os.getenv(\"SERPAPI_API_KEY\")\n",
    "fmp_api_key = os.getenv(\"FMP_API_KEY\")\n",
    "together_api_key = os.getenv(\"TOGETHER_API_KEY\")\n",
    "groq_api_key = os.getenv(\"GROQ_API_KEY\")\n",
    "upstage_api_key = os.getenv(\"UPSTAGE_API_KEY\")"
   ]
  },
  {
   "cell_type": "markdown",
   "metadata": {},
   "source": [
    "### openAI api test"
   ]
  },
  {
   "cell_type": "code",
   "execution_count": 23,
   "metadata": {},
   "outputs": [
    {
     "name": "stdout",
     "output_type": "stream",
     "text": [
      "<openai.OpenAI object at 0x1275bdb50>\n",
      "OpenAI API 유효!!!\n"
     ]
    }
   ],
   "source": [
    "from openai import OpenAI\n",
    "\n",
    "client = OpenAI()\n",
    "print(client)\n",
    "try:\n",
    "    client.chat.completions.create(\n",
    "        model=\"gpt-3.5-turbo\",\n",
    "        messages=[\n",
    "            {\n",
    "                \"role\": \"system\",\n",
    "                \"content\": \"너는 친절한 AI Assistance 이다.\",\n",
    "            },\n",
    "            {\n",
    "                \"role\": \"user\",\n",
    "                \"content\": \"say this is test\",\n",
    "            },\n",
    "        ],\n",
    "        max_tokens=30,\n",
    "    )\n",
    "    print(\"OpenAI API 유효!!!\")\n",
    "except Exception:\n",
    "    print(\"OpenAI API 실패!!!\")"
   ]
  },
  {
   "cell_type": "markdown",
   "metadata": {},
   "source": [
    "### 허깅페이스 API 테스트"
   ]
  },
  {
   "cell_type": "code",
   "execution_count": 24,
   "metadata": {},
   "outputs": [
    {
     "name": "stdout",
     "output_type": "stream",
     "text": [
      "HuggingFace API 성공\n"
     ]
    }
   ],
   "source": [
    "# HuggingFace API 테스트\n",
    "headers = {\n",
    "    \"Authorization\": f\"Bearer {huggingfacehub_api_token}\"\n",
    "}\n",
    "try:\n",
    "    response = requests.get(\"https://api-inference.huggingface.co/models/bert-base-uncased\", headers=headers)\n",
    "    response.raise_for_status()\n",
    "    print(\"HuggingFace API 성공\")\n",
    "except Exception:\n",
    "    print(\"HuggingFace API 실패\")"
   ]
  }
 ],
 "metadata": {
  "kernelspec": {
   "display_name": "langchain-wiset",
   "language": "python",
   "name": "python3"
  },
  "language_info": {
   "codemirror_mode": {
    "name": "ipython",
    "version": 3
   },
   "file_extension": ".py",
   "mimetype": "text/x-python",
   "name": "python",
   "nbconvert_exporter": "python",
   "pygments_lexer": "ipython3",
   "version": "3.11.9"
  }
 },
 "nbformat": 4,
 "nbformat_minor": 2
}
