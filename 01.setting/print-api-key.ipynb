{
 "cells": [
  {
   "cell_type": "markdown",
   "metadata": {},
   "source": [
    "# API key 프린트\n",
    "- 다음은 단순히 API key가 있는지만 테스트한다\n",
    "- API key가 잘못되었거나, 만료된 경우도 있음. \n",
    "- API key는 사용량에 따라서 과금이 됨 -> 절대 공유 금지하시길."
   ]
  },
  {
   "cell_type": "code",
   "execution_count": 1,
   "metadata": {},
   "outputs": [
    {
     "data": {
      "text/plain": [
       "True"
      ]
     },
     "execution_count": 1,
     "metadata": {},
     "output_type": "execute_result"
    }
   ],
   "source": [
    "import os\n",
    "from dotenv import load_dotenv\n",
    "load_dotenv()"
   ]
  },
  {
   "cell_type": "code",
   "execution_count": null,
   "metadata": {},
   "outputs": [],
   "source": [
    "print(\"openai:\", os.getenv(\"OPENAI_API_KEY\"))\n",
    "print(\"claude:\", os.getenv(\"ANTHROPIC_API_KEY\"))\n",
    "print(\"huggingface:\", os.getenv(\"HUGGINGFACEHUB_API_TOKEN\"))\n",
    "print(\"lang trace:\", os.getenv(\"LANGCHAIN_TRACING_V2\"))\n",
    "print(\"lang end:\", os.getenv(\"LANGCHAIN_ENDPOINT\"))\n",
    "print(\"lang api:\", os.getenv(\"LANGCHAIN_API_KEY\"))\n",
    "print(\"lang project:\", os.getenv(\"LANGCHAIN_PROJECT\"))\n",
    "print(\"tavily:\", os.getenv(\"TAVILY_API_KEY\"))\n",
    "print(\"google:\", os.getenv(\"GOOGLE_API_KEY\"))\n",
    "print(\"pinecone:\", os.getenv(\"PINECONE_API_KEY\"))\n",
    "print(\"environ:\", os.getenv(\"PINECONE_ENVIRONMENT_KEY\"))\n",
    "print(\"serp:\", os.getenv(\"SERPAPI_API_KEY\"))\n",
    "print(\"upstage:\", os.getenv(\"UPSTAGE_API_KEY\"))\n",
    "print(\"deepl:\", os.getenv(\"DEEPL_API_KEY\"))\n",
    "print(\"together:\", os.getenv(\"TOGETHER_API_KEY\"))\n",
    "print(\"google app:\", os.getenv(\"GOOGLE_APPLICATION_CREDENTIALS\"))\n",
    "print(\"google cloud:\", os.getenv(\"GOOGLE_CLOUD_PROJECT\"))\n",
    "print(\"multion:\", os.getenv(\"MULTION_API_KEY\"))\n",
    "print(\"groq:\", os.getenv(\"GROQ_API_KEY\"))"
   ]
  }
 ],
 "metadata": {
  "kernelspec": {
   "display_name": "base",
   "language": "python",
   "name": "python3"
  },
  "language_info": {
   "codemirror_mode": {
    "name": "ipython",
    "version": 3
   },
   "file_extension": ".py",
   "mimetype": "text/x-python",
   "name": "python",
   "nbconvert_exporter": "python",
   "pygments_lexer": "ipython3",
   "version": "3.11.9"
  }
 },
 "nbformat": 4,
 "nbformat_minor": 2
}
