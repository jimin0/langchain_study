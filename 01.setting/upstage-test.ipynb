{
 "cells": [
  {
   "cell_type": "markdown",
   "metadata": {},
   "source": [
    "# Upstage API key 테스트\n",
    "- upstage :AI 기술, 특히 대규모 언어 모델(LLM)과 문서 AI 분야에 특화된 국내 스타트업\n",
    "- API 키 발급은 Upstage 홈페이지에서 가능"
   ]
  },
  {
   "cell_type": "code",
   "execution_count": 1,
   "metadata": {},
   "outputs": [
    {
     "name": "stdout",
     "output_type": "stream",
     "text": [
      "북한은 동아시아에 위치한 나라로, 공식적으로는 조선민주주의인민공화국이라고 알려져 있습니다. 한반도의 북쪽 부분을 차지하고 있으며, 남쪽으로는 대한민국과 휴전선을 사이에 두고 인접해 있습니다. 북한의 수도는 평양이죠. 북한은 1948년에 설립되었으며, 사회주의 체제를 채택하고 있습니다. \n",
      "\n",
      "북한은 경제적으로 어려운 상황에 처해있으며, 주로 중앙집권적인 계획경제 체제를 유지하고 있습니다. 농업, 광업, 제조업 등이 주요 산업 부문이며, 최근 몇 년간 경제 개혁과 개방을 시도하고 있습니다. 그러나 국제적인 제재와 지정학적인 문제로 인해 경제 성장이 제한되고 있습니다.\n",
      "\n",
      "북한은 또한 세계적으로 유명한 문화유산을 보유하고 있으며, 전통적인 예술, 음악, 문학 등이 발전해 왔습니다. 그러나 현재 북한의 문화는 국가 통제에 의해 제한되고 있으며, 외부와의 문화 교류는 제한적입니다.\n",
      "\n",
      "북한은 국제사회와의 관계가 복잡하며, 핵무기 개발과 인권 문제 등으로 인해 국제적인 주목을 받고 있습니다. 최근에는 남북한 간의 대화와 협력 노력이 이루어지고 있으며, 한반도의 평화와 통일을 위한 노력이 계속되고 있습니다.\n"
     ]
    }
   ],
   "source": [
    "from langchain_upstage import ChatUpstage\n",
    "from langchain_core.messages import HumanMessage, SystemMessage\n",
    "from dotenv import load_dotenv\n",
    "load_dotenv()\n",
    "\n",
    "question = \"북한에 대해서 이야기해줘\"\n",
    "chat = ChatUpstage()\n",
    "messages = [\n",
    "  SystemMessage(content=\"You are a helpful assistant.\"),\n",
    "  HumanMessage(content=question)\n",
    "]\n",
    "response = chat.invoke(messages).content\n",
    "print(response)"
   ]
  },
  {
   "cell_type": "code",
   "execution_count": null,
   "metadata": {},
   "outputs": [],
   "source": []
  }
 ],
 "metadata": {
  "kernelspec": {
   "display_name": "base",
   "language": "python",
   "name": "python3"
  },
  "language_info": {
   "codemirror_mode": {
    "name": "ipython",
    "version": 3
   },
   "file_extension": ".py",
   "mimetype": "text/x-python",
   "name": "python",
   "nbconvert_exporter": "python",
   "pygments_lexer": "ipython3",
   "version": "3.11.9"
  }
 },
 "nbformat": 4,
 "nbformat_minor": 2
}
