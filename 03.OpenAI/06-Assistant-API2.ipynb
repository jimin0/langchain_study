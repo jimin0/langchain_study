{
 "cells": [
  {
   "cell_type": "markdown",
   "metadata": {},
   "source": [
    "### 함수화\n"
   ]
  },
  {
   "cell_type": "markdown",
   "metadata": {},
   "source": [
    "`05-Assistant-API.ipynb`에서 assisant api code는  흩어져 있음.\n",
    "\n",
    "따라서, 내용 묶어서 함수화 코드 실습 시작\n"
   ]
  },
  {
   "cell_type": "code",
   "execution_count": 2,
   "metadata": {},
   "outputs": [
    {
     "data": {
      "text/plain": [
       "{'id': 'asst_TbKNyLDSJiXr7T3jAPyNItPR',\n",
       " 'created_at': 1722441833,\n",
       " 'description': None,\n",
       " 'instructions': 'You are a personal math tutor. Answer questions briefly, in a sentence or less.',\n",
       " 'metadata': {},\n",
       " 'model': 'gpt-4o-mini',\n",
       " 'name': 'Math Tutor',\n",
       " 'object': 'assistant',\n",
       " 'tools': [],\n",
       " 'response_format': 'auto',\n",
       " 'temperature': 1.0,\n",
       " 'tool_resources': {'code_interpreter': None, 'file_search': None},\n",
       " 'top_p': 1.0}"
      ]
     },
     "metadata": {},
     "output_type": "display_data"
    }
   ],
   "source": [
    "from openai import OpenAI\n",
    "import json \n",
    "\n",
    "def show_json(obj):\n",
    "    # obj의 모델을 JSON 형태로 변환한 후 출력합니다.\n",
    "    display(json.loads(obj.model_dump_json()))\n",
    "    \n",
    "# OpenAI API를 사용하기 위한 클라이언트 객체를 생성합니다.\n",
    "client = OpenAI()\n",
    "\n",
    "# 수학 과외 선생님 역할을 하는 챗봇을 생성합니다.\n",
    "# 이 챗봇은 간단한 문장이나 한 문장으로 질문에 답변합니다.\n",
    "assistant = client.beta.assistants.create(\n",
    "    name=\"Math Tutor\",\n",
    "    instructions=\"You are a personal math tutor. Answer questions briefly, in a sentence or less.\",\n",
    "    model=\"gpt-4o-mini\",\n",
    ")\n",
    "# 생성된 챗봇의 정보를 JSON 형태로 출력합니다.\n",
    "show_json(assistant)"
   ]
  },
  {
   "cell_type": "code",
   "execution_count": 3,
   "metadata": {},
   "outputs": [],
   "source": [
    "import time\n",
    "from openai import OpenAI\n",
    "\n",
    "\n",
    "# 이전에 설정한 Assistant ID 를 기입합니다.\n",
    "ASSISTANT_ID = assistant.id\n",
    "\n",
    "# OpenAI API를 사용하기 위한 클라이언트 객체를 생성합니다.\n",
    "client = OpenAI()\n",
    "\n",
    "\n",
    "def submit_message(assistant_id, thread, user_message):\n",
    "    # 사용자 입력 메시지를 스레드에 추가합니다.\n",
    "    client.beta.threads.messages.create(\n",
    "        # Thread ID가 필요합니다.\n",
    "        # 사용자 입력 메시지 이므로 role은 \"user\"로 설정합니다.\n",
    "        # 사용자 입력 메시지를 content에 지정합니다.\n",
    "        thread_id=thread.id,\n",
    "        role=\"user\",\n",
    "        content=user_message,\n",
    "    )\n",
    "    # 스레드에 메시지가 입력이 완료되었다면,\n",
    "    # Assistant ID와 Thread ID를 사용하여 실행을 준비합니다.\n",
    "    run = client.beta.threads.runs.create(\n",
    "        thread_id=thread.id,\n",
    "        assistant_id=assistant_id,\n",
    "    )\n",
    "    return run\n",
    "\n",
    "\n",
    "def wait_on_run(run, thread):\n",
    "    # 주어진 실행(run)이 완료될 때까지 대기합니다.\n",
    "    # status 가 \"queued\" 또는 \"in_progress\" 인 경우에는 계속 polling 하며 대기합니다.\n",
    "    while run.status == \"queued\" or run.status == \"in_progress\":\n",
    "        # run.status 를 업데이트합니다.\n",
    "        run = client.beta.threads.runs.retrieve(\n",
    "            thread_id=thread.id,\n",
    "            run_id=run.id,\n",
    "        )\n",
    "        # API 요청 사이에 잠깐의 대기 시간을 두어 서버 부하를 줄입니다.\n",
    "        time.sleep(0.5)\n",
    "    return run\n",
    "\n",
    "\n",
    "def get_response(thread):\n",
    "    # 스레드에서 메시지 목록을 가져옵니다.\n",
    "    # 메시지를 오름차순으로 정렬할 수 있습니다. order=\"asc\"로 지정합니다.\n",
    "    return client.beta.threads.messages.list(thread_id=thread.id, order=\"asc\")"
   ]
  },
  {
   "cell_type": "markdown",
   "metadata": {},
   "source": [
    "재사용할 수 있는 `create_thread_and_run` 함수를 정의했습니다(사실상 우리 API의 [`client.beta.threads.create_and_run`](https://platform.openai.com/docs/api-reference/runs/createThreadAndRun) 복합 함수와 거의 동일합니다)\n",
    "\n",
    "`create_thread_and_run` 함수는 새로운 스레드를 생성하고 실행하기 위한 준비단계(status 가 `queued` 된 상태) 까지 진행합니다.\n",
    "\n",
    "이러한 API 호출이 모두 비동기 작업인 점을 알아두시면 좋습니다.\n"
   ]
  },
  {
   "cell_type": "code",
   "execution_count": 4,
   "metadata": {},
   "outputs": [],
   "source": [
    "# 새로운 스레드를 생성하고 메시지를 제출하는 함수를 정의합니다.\n",
    "def create_thread_and_run(user_input):\n",
    "    # 사용자 입력을 받아 새로운 스레드를 생성하고, Assistant 에게 메시지를 제출합니다.\n",
    "    thread = client.beta.threads.create()\n",
    "    run = submit_message(ASSISTANT_ID, thread, user_input)\n",
    "    return thread, run"
   ]
  },
  {
   "cell_type": "markdown",
   "metadata": {},
   "source": [
    "비동기로 `queued` 상태인 `Run` 을 생성했습니다.\n",
    "\n",
    "아직 실행이 시작된 것은 아니라는 점을 주의해 주세요.\n"
   ]
  },
  {
   "cell_type": "code",
   "execution_count": 5,
   "metadata": {},
   "outputs": [],
   "source": [
    "# 동시에 여러 요청을 처리하기 위해 스레드를 생성합니다.\n",
    "thread1, run1 = create_thread_and_run(\n",
    "    \"다음 방정식을 풀고 싶습니다. `3x + 11 = 14`. 좀 도와주실 수 있나요?\"\n",
    ")\n",
    "thread2, run2 = create_thread_and_run(\"선형대수학에 대해 간략히 설명해 주실 수 있나요?\")\n",
    "thread3, run3 = create_thread_and_run(\n",
    "    \"수학에 정말 소질이 없는 것 같아. 어떻게 하면 수학을 잘할 수 있을까요? 조언좀 해줘요.\"\n",
    ")"
   ]
  },
  {
   "cell_type": "markdown",
   "metadata": {},
   "source": [
    "모든 실행이 진행되고 나면, 각각을 기다린 후 응답을 받을 수 있습니다.\n"
   ]
  },
  {
   "cell_type": "code",
   "execution_count": 6,
   "metadata": {},
   "outputs": [
    {
     "name": "stdout",
     "output_type": "stream",
     "text": [
      "[USER]\n",
      "다음 방정식을 풀고 싶습니다. `3x + 11 = 14`. 좀 도와주실 수 있나요?\n",
      "\n",
      "[ASSISTANT]\n",
      "네, 방정식을 풀면 \\( x = 1 \\)입니다.\n",
      "\n",
      "------------------------------------------------------------\n",
      "[USER]\n",
      "선형대수학에 대해 간략히 설명해 주실 수 있나요?\n",
      "\n",
      "[ASSISTANT]\n",
      "선형대수학은 벡터 공간과 선형 변환을 다루는 수학의 한 분야로, 행렬, 벡터, 시스템의 해 등을 연구합니다.\n",
      "\n",
      "------------------------------------------------------------\n",
      "[USER]\n",
      "수학에 정말 소질이 없는 것 같아. 어떻게 하면 수학을 잘할 수 있을까요? 조언좀 해줘요.\n",
      "\n",
      "[ASSISTANT]\n",
      "수학을 잘하기 위해서는 기초 개념을 확실히 이해하고, 꾸준히 연습하며, 문제를 푸는 습관을 기르는 것이 중요합니다.\n",
      "\n",
      "[USER]\n",
      "도와주셔서 감사합니다!\n",
      "\n",
      "[ASSISTANT]\n",
      "천만에요! 언제든지 질문해 주세요!\n",
      "\n",
      "------------------------------------------------------------\n"
     ]
    }
   ],
   "source": [
    "import time\n",
    "\n",
    "\n",
    "# 메시지 출력용 함수\n",
    "def print_message(response):\n",
    "    for res in response:\n",
    "        print(f\"[{res.role.upper()}]\\n{res.content[0].text.value}\\n\")\n",
    "    print(\"---\" * 20)\n",
    "\n",
    "\n",
    "# 반복문에서 대기하는 함수\n",
    "\n",
    "\n",
    "def wait_on_run(run, thread):\n",
    "    while run.status == \"queued\" or run.status == \"in_progress\":\n",
    "        run = client.beta.threads.runs.retrieve(\n",
    "            thread_id=thread.id,\n",
    "            run_id=run.id,\n",
    "        )\n",
    "        time.sleep(0.5)\n",
    "    return run\n",
    "\n",
    "\n",
    "# 첫 번째 실행을 위해 대기\n",
    "run1 = wait_on_run(run1, thread1)\n",
    "print_message(get_response(thread1))\n",
    "\n",
    "# 두 번째 실행을 위해 대기\n",
    "run2 = wait_on_run(run2, thread2)\n",
    "print_message(get_response(thread2))\n",
    "\n",
    "# 세 번째 실행을 위해 대기\n",
    "run3 = wait_on_run(run3, thread3)\n",
    "# 세 번째 스레드를 마치면 감사 인사를 전하고 종료합니다 :)\n",
    "run4 = submit_message(ASSISTANT_ID, thread3, \"도와주셔서 감사합니다!\")\n",
    "run4 = wait_on_run(run4, thread3)\n",
    "print_message(get_response(thread3))"
   ]
  },
  {
   "cell_type": "markdown",
   "metadata": {},
   "source": [
    "### 전체코드(템플릿 코드)\n"
   ]
  },
  {
   "cell_type": "markdown",
   "metadata": {},
   "source": [
    "API KEY를 설정하고, helper 함수를 정의합니다.\n"
   ]
  },
  {
   "cell_type": "code",
   "execution_count": 7,
   "metadata": {},
   "outputs": [
    {
     "data": {
      "text/plain": [
       "True"
      ]
     },
     "execution_count": 7,
     "metadata": {},
     "output_type": "execute_result"
    }
   ],
   "source": [
    "from dotenv import load_dotenv\n",
    "\n",
    "load_dotenv()"
   ]
  },
  {
   "cell_type": "code",
   "execution_count": 8,
   "metadata": {},
   "outputs": [],
   "source": [
    "import os\n",
    "import json\n",
    "\n",
    "api_key = os.environ.get(\"OPENAI_API_KEY\")\n",
    "\n",
    "\n",
    "def show_json(obj):\n",
    "    # obj의 모델을 JSON 형태로 변환한 후 출력합니다.\n",
    "    display(json.loads(obj.model_dump_json()))"
   ]
  },
  {
   "cell_type": "markdown",
   "metadata": {},
   "source": [
    "1. Assistant 생성\n",
    "   1. [Assistants Playground](https://platform.openai.com/playground) 에서 이미 Assistant 를 생성한 경우\n",
    "   2. Assistant 를 생성하지 않은 경우\n"
   ]
  },
  {
   "cell_type": "code",
   "execution_count": 9,
   "metadata": {},
   "outputs": [],
   "source": [
    "# 1-1. Assistant ID를 불러옵니다(Playground에서 생성한 Assistant ID)\n",
    "ASSISTANT_ID = \"asst_V8s4Ku4Eiid5QC9WABlwDsYs\""
   ]
  },
  {
   "cell_type": "code",
   "execution_count": 11,
   "metadata": {},
   "outputs": [
    {
     "data": {
      "text/plain": [
       "{'id': 'asst_YBFC5ROtYmKYjsH7CI68V6Tz',\n",
       " 'created_at': 1722442008,\n",
       " 'description': None,\n",
       " 'instructions': 'You are a personal math tutor. Answer questions briefly, in a sentence or less.',\n",
       " 'metadata': {},\n",
       " 'model': 'gpt-4o-mini',\n",
       " 'name': 'Math Tutor',\n",
       " 'object': 'assistant',\n",
       " 'tools': [],\n",
       " 'response_format': 'auto',\n",
       " 'temperature': 1.0,\n",
       " 'tool_resources': {'code_interpreter': None, 'file_search': None},\n",
       " 'top_p': 1.0}"
      ]
     },
     "metadata": {},
     "output_type": "display_data"
    }
   ],
   "source": [
    "# 1-2. Assistant 를 생성합니다.\n",
    "from openai import OpenAI\n",
    "\n",
    "# OpenAI API를 사용하기 위한 클라이언트 객체를 생성합니다.\n",
    "client = OpenAI(api_key=api_key)\n",
    "\n",
    "# Assistant 를 생성합니다.\n",
    "assistant = client.beta.assistants.create(\n",
    "    name=\"Math Tutor\",  # 챗봇의 이름을 지정합니다.\n",
    "    # 챗봇의 역할을 설명합니다.\n",
    "    instructions=\"You are a personal math tutor. Answer questions briefly, in a sentence or less.\",\n",
    "    model=\"gpt-4o-mini\",  # 사용할 모델을 지정합니다.\n",
    ")\n",
    "\n",
    "# 생성된 챗봇의 정보를 JSON 형태로 출력합니다.\n",
    "show_json(assistant)\n",
    "ASSISTANT_ID = assistant.id"
   ]
  },
  {
   "cell_type": "markdown",
   "metadata": {},
   "source": [
    "2. 스레드(Thread) 생성하기\n",
    "   1. 스레드를 이미 생성한 경우\n",
    "   2. 스레드를 새롭게 생성하는 경우\n"
   ]
  },
  {
   "cell_type": "code",
   "execution_count": 12,
   "metadata": {},
   "outputs": [],
   "source": [
    "# 2-1. 스레드를 이미 생성한 경우\n",
    "THREAD_ID = \"thread_6We5fHvb5NBuacPfZYkqUWlO\""
   ]
  },
  {
   "cell_type": "code",
   "execution_count": 13,
   "metadata": {},
   "outputs": [
    {
     "data": {
      "text/plain": [
       "{'id': 'thread_QNIvnBlhUvHXoKXWOdD2q0Gy',\n",
       " 'created_at': 1722442016,\n",
       " 'metadata': {},\n",
       " 'object': 'thread',\n",
       " 'tool_resources': {'code_interpreter': None, 'file_search': None}}"
      ]
     },
     "metadata": {},
     "output_type": "display_data"
    }
   ],
   "source": [
    "# 2-2. 스레드를 새롭게 생성합니다.\n",
    "def create_new_thread():\n",
    "    # 새로운 스레드를 생성합니다.\n",
    "    thread = client.beta.threads.create()\n",
    "    return thread\n",
    "\n",
    "\n",
    "thread = create_new_thread()\n",
    "# 새로운 스레드를 생성합니다.\n",
    "show_json(thread)\n",
    "# 새롭게 생성한 스레드 ID를 저장합니다.\n",
    "THREAD_ID = thread.id"
   ]
  },
  {
   "cell_type": "markdown",
   "metadata": {},
   "source": [
    "3. 스레드에 메시지 생성\n",
    "   1. 스레드에 새로운 메시지를 추가 합니다.\n",
    "   2. 스레드를 실행(run) 합니다.\n",
    "   3. 스레드의 상태를 확인합니다.(대기중, 작업중, 완료, etc)\n",
    "   4. 스레드에서 최신 메시지를 조회한 뒤 결과를 확인합니다.\n"
   ]
  },
  {
   "cell_type": "code",
   "execution_count": 14,
   "metadata": {},
   "outputs": [],
   "source": [
    "import time\n",
    "\n",
    "\n",
    "# 반복문에서 대기하는 함수\n",
    "def wait_on_run(run, thread_id):\n",
    "    while run.status == \"queued\" or run.status == \"in_progress\":\n",
    "        # 3-3. 실행 상태를 최신 정보로 업데이트합니다.\n",
    "        run = client.beta.threads.runs.retrieve(\n",
    "            thread_id=thread_id,\n",
    "            run_id=run.id,\n",
    "        )\n",
    "        time.sleep(0.5)\n",
    "    return run\n",
    "\n",
    "\n",
    "def submit_message(assistant_id, thread_id, user_message):\n",
    "    # 3-1. 스레드에 종속된 메시지를 '추가' 합니다.\n",
    "    client.beta.threads.messages.create(\n",
    "        thread_id=thread_id, role=\"user\", content=user_message\n",
    "    )\n",
    "    # 3-2. 스레드를 실행합니다.\n",
    "    run = client.beta.threads.runs.create(\n",
    "        thread_id=thread_id,\n",
    "        assistant_id=assistant_id,\n",
    "    )\n",
    "    return run\n",
    "\n",
    "\n",
    "def get_response(thread_id):\n",
    "    # 3-4. 스레드에 종속된 메시지를 '조회' 합니다.\n",
    "    return client.beta.threads.messages.list(thread_id=thread_id, order=\"asc\")\n",
    "\n",
    "\n",
    "def print_message(response):\n",
    "    for res in response:\n",
    "        print(f\"[{res.role.upper()}]\\n{res.content[0].text.value}\\n\")\n",
    "\n",
    "\n",
    "def ask(assistant_id, thread_id, user_message):\n",
    "    run = submit_message(\n",
    "        assistant_id,\n",
    "        thread_id,\n",
    "        user_message,\n",
    "    )\n",
    "    # 실행이 완료될 때까지 대기합니다.\n",
    "    run = wait_on_run(run, thread_id)\n",
    "    print_message(get_response(thread_id).data[-2:])\n",
    "    return run"
   ]
  },
  {
   "cell_type": "code",
   "execution_count": null,
   "metadata": {},
   "outputs": [
    {
     "name": "stdout",
     "output_type": "stream",
     "text": [
      "[USER]\n",
      "I need to solve `1 + 20`. Can you help me?\n",
      "\n",
      "[ASSISTANT]\n",
      "Yes, \\(1 + 20 = 21\\).\n",
      "\n"
     ]
    }
   ],
   "source": [
    "# thread_id = \"기존 스레드 ID를 입력해 주세요\"\n",
    "thread_id = create_new_thread().id  # 새로운 스레드를 생성합니다.\n",
    "run = ask(ASSISTANT_ID, thread_id, \"I need to solve `1 + 20`. Can you help me?\")"
   ]
  },
  {
   "cell_type": "code",
   "execution_count": null,
   "metadata": {},
   "outputs": [
    {
     "name": "stdout",
     "output_type": "stream",
     "text": [
      "[USER]\n",
      "I need to solve `1 + 20`. Can you help me?\n",
      "\n",
      "[ASSISTANT]\n",
      "Yes, \\(1 + 20 = 21\\).\n",
      "\n"
     ]
    }
   ],
   "source": [
    "# 전체 대화내용 출력\n",
    "print_message(get_response(thread_id).data[:])"
   ]
  },
  {
   "cell_type": "markdown",
   "metadata": {},
   "source": [
    "## 전체를 class 로 만들어보기\n",
    "- 사용자입장에서 보면 \n",
    "- assistant를 지정하고\n",
    "- 질문을 하고\n",
    "- 답변을 받으면 됨"
   ]
  },
  {
   "cell_type": "code",
   "execution_count": 17,
   "metadata": {},
   "outputs": [],
   "source": [
    "from openai import OpenAI\n",
    "import os\n",
    "import time\n",
    "\n",
    "class MathTutor:\n",
    "    def __init__(self):\n",
    "        # OpenAI 클라이언트 초기화\n",
    "        self.client = OpenAI()\n",
    "        \n",
    "        # Assistant 생성\n",
    "        self.assistant = self.client.beta.assistants.create(\n",
    "            name=\"Math Tutor\",\n",
    "            instructions=\"You are a helpful math tutor. Your task is to assist students with mathematical problems, providing step-by-step explanations and solutions.\",\n",
    "            model=\"gpt-4o-mini\"\n",
    "        )\n",
    "        \n",
    "        # Thread 생성\n",
    "        self.thread = self.client.beta.threads.create()\n",
    "\n",
    "    def assistant_math_tutor(self, input_message):\n",
    "        # 메시지 추가\n",
    "        self.client.beta.threads.messages.create(\n",
    "            thread_id=self.thread.id,\n",
    "            role=\"user\",\n",
    "            content=input_message\n",
    "        )\n",
    "\n",
    "        # Run 생성 및 완료 대기\n",
    "        run = self.client.beta.threads.runs.create(\n",
    "            thread_id=self.thread.id,\n",
    "            assistant_id=self.assistant.id\n",
    "        )\n",
    "\n",
    "        while True:\n",
    "            run_status = self.client.beta.threads.runs.retrieve(\n",
    "                thread_id=self.thread.id,\n",
    "                run_id=run.id\n",
    "            )\n",
    "            if run_status.status == 'completed':\n",
    "                break\n",
    "            time.sleep(1)\n",
    "\n",
    "        # 응답 가져오기\n",
    "        messages = self.client.beta.threads.messages.list(thread_id=self.thread.id)\n",
    "        assistant_response = messages.data[0].content[0].text.value\n",
    "\n",
    "        return assistant_response"
   ]
  },
  {
   "cell_type": "code",
   "execution_count": 18,
   "metadata": {},
   "outputs": [
    {
     "name": "stdout",
     "output_type": "stream",
     "text": [
      "Question 1: y = 6x**2 + 2x - 5의 해를 구해주세요.\n",
      "Answer 1: 주어진 방정식 \\( y = 6x^2 + 2x - 5 \\)의 해를 찾기 위해서는 이 방정식을 \\( y = 0 \\)으로 두고, 즉 \\( 6x^2 + 2x - 5 = 0 \\)의 형태로 변형해 근을 찾아야 합니다. 이차 방정식의 해를 구하기 위해 근의 공식을 사용할 수 있습니다.\n",
      "\n",
      "이차 방정식의 일반형은 다음과 같습니다:\n",
      "\\[\n",
      "ax^2 + bx + c = 0\n",
      "\\]\n",
      "여기서 \\( a = 6 \\), \\( b = 2 \\), \\( c = -5 \\)입니다.\n",
      "\n",
      "근의 공식은 다음과 같습니다:\n",
      "\\[\n",
      "x = \\frac{-b \\pm \\sqrt{b^2 - 4ac}}{2a}\n",
      "\\]\n",
      "\n",
      "이제 각 값을 대입하여 계산해보겠습니다.\n",
      "\n",
      "1. **\\( b^2 - 4ac \\) 계산하기**\n",
      "   \\[\n",
      "   b^2 = 2^2 = 4\n",
      "   \\]\n",
      "   \\[\n",
      "   4ac = 4 \\cdot 6 \\cdot (-5) = -120\n",
      "   \\]\n",
      "   \\[\n",
      "   b^2 - 4ac = 4 - (-120) = 4 + 120 = 124\n",
      "   \\]\n",
      "\n",
      "2. **근의 공식에 대입하기**\n",
      "   \\[\n",
      "   x = \\frac{-2 \\pm \\sqrt{124}}{2 \\cdot 6}\n",
      "   \\]\n",
      "   \\[\n",
      "   = \\frac{-2 \\pm \\sqrt{124}}{12}\n",
      "   \\]\n",
      "   \\(\\sqrt{124}\\)는 간단히 할 수 있습니다:\n",
      "   \\[\n",
      "   \\sqrt{124} = \\sqrt{4 \\times 31} = 2\\sqrt{31}\n",
      "   \\]\n",
      "\n",
      "   따라서 식은 다음과 같습니다:\n",
      "   \\[\n",
      "   x = \\frac{-2 \\pm 2\\sqrt{31}}{12}\n",
      "   \\]\n",
      "   \\[\n",
      "   = \\frac{-1 \\pm \\sqrt{31}}{6}\n",
      "   \\]\n",
      "\n",
      "3. **결과**\n",
      "   두 해는 다음과 같습니다:\n",
      "\\[\n",
      "x_1 = \\frac{-1 + \\sqrt{31}}{6}, \\quad x_2 = \\frac{-1 - \\sqrt{31}}{6}\n",
      "\\]\n",
      "\n",
      "따라서 주어진 이차 방정식 \\( 6x^2 + 2x - 5 = 0 \\)의 해는 \\( x = \\frac{-1 + \\sqrt{31}}{6} \\)와 \\( x = \\frac{-1 - \\sqrt{31}}{6} \\)입니다.\n"
     ]
    }
   ],
   "source": [
    "tutor = MathTutor()\n",
    "\n",
    "# 첫 번째 질문\n",
    "question1 = \"y = 6x**2 + 2x - 5의 해를 구해주세요.\"\n",
    "answer1 = tutor.assistant_math_tutor(question1)\n",
    "print(\"Question 1:\", question1)\n",
    "print(\"Answer 1:\", answer1)\n",
    "    \n"
   ]
  },
  {
   "cell_type": "code",
   "execution_count": null,
   "metadata": {},
   "outputs": [
    {
     "name": "stdout",
     "output_type": "stream",
     "text": [
      "\n",
      "Question 2: sin(x) + cos(x) = 1의 해를 구해주세요.\n",
      "Answer 2: 주어진 삼각방정식 sin(x) + cos(x) = 1의 해를 구하기 위해 방정식의 삼각함수 특성을 이용하여 해결할 수 있습니다.\n",
      "\n",
      "먼저, 삼각함수의 합 차 공식을 적용해 sin(x) + cos(x)를 단일 삼각함수로 표현할 수 있습니다.\n",
      "\n",
      "sin(x) + cos(x) = sqrt(2) * sin(x + pi/4)\n",
      "\n",
      "따라서, 주어진 방정식은 다음과 같이 변환됩니다.\n",
      "\n",
      "sqrt(2) * sin(x + pi/4) = 1\n",
      "\n",
      "이제 삼각함수의 정의에 따라 sin(x) = 1 / sqrt(2)이 되는 경우를 생각할 수 있습니다.\n",
      "\n",
      "sin(x) = 1 / sqrt(2)\n",
      "x = π/4 + 2πn, 5π/4 + 2πn\n",
      "\n",
      "따라서, 방정식 sin(x) + cos(x) = 1의 해는 x = π/4 + 2πn 또는 x = 5π/4 + 2πn (여기서 n은 정수) 입니다.\n"
     ]
    }
   ],
   "source": [
    "# 두 번째 질문\n",
    "question2 = \"sin(x) + cos(x) = 1의 해를 구해주세요.\"\n",
    "answer2 = tutor.assistant_math_tutor(question2)\n",
    "print(\"\\nQuestion 2:\", question2)\n",
    "print(\"Answer 2:\", answer2)"
   ]
  }
 ],
 "metadata": {
  "kernelspec": {
   "display_name": "langchain-wiset",
   "language": "python",
   "name": "python3"
  },
  "language_info": {
   "codemirror_mode": {
    "name": "ipython",
    "version": 3
   },
   "file_extension": ".py",
   "mimetype": "text/x-python",
   "name": "python",
   "nbconvert_exporter": "python",
   "pygments_lexer": "ipython3",
   "version": "3.11.9"
  }
 },
 "nbformat": 4,
 "nbformat_minor": 2
}
