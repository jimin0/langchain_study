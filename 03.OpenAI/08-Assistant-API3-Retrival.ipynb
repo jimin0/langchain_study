{
 "cells": [
  {
   "cell_type": "markdown",
   "metadata": {},
   "source": [
    "### 🛠️ 도구2: Retrieval(검색)\n",
    "\n",
    "Assistants API에서 또 다른 강력한 도구는 [검색](https://platform.openai.com/docs/assistants/tools/knowledge-retrieval)이다. \n",
    "\n",
    "주요 기능\n",
    "\n",
    "- 질문에 답변할 때 Assistant가 제공된 문서나 지식 기반으로 답변할 수 있게하는 기능입니다.\n",
    "- 검색은 독점적인 제품 정보나 사용자가 제공한 문서 등 모델 외부의 지식으로 Assistant 의 답변을 보강합니다.\n",
    "- 파일을 업로드하여 어시스턴트에 전달하면 OpenAI가 자동으로 문서를 청크 처리(분할)하고, 임베딩을 색인화 및 저장하며, 벡터 검색을 구현하여 관련 콘텐츠를 검색하여 사용자 쿼리에 답변합니다."
   ]
  },
  {
   "cell_type": "markdown",
   "metadata": {},
   "source": [
    "기존의 Assistant 에 **검색 도구(Retrieval Tools) 를 추가** 하고, **업로드한 파일을 연결** 까지 완료했다면, 이제 Assistant 를 사용하여 검색을 수행할 수 있습니다.\n",
    "\n",
    "수행하는 방식은 기존과 동일합니다.\n",
    "\n",
    "질문의 내용을 이해하고, Assistant 에게 질문을 제출하면 됩니다.\n",
    "\n",
    "다만, **\"파일로부터 검색해줘\" 라는 명령어를 사용하여 Assistant 에게 파일로부터 검색을 수행하도록 지시** 해야 합니다.\n"
   ]
  },
  {
   "cell_type": "code",
   "execution_count": 1,
   "metadata": {},
   "outputs": [
    {
     "name": "stdout",
     "output_type": "stream",
     "text": [
      "총 2개의 파일을 삭제합니다.\n",
      "파일이 삭제되었습니다: SPRI_AI_Brief_2023년12월호.pdf (ID: file-AalSKdWM9TleKuSbai0NfAjS)\n",
      "총 1개의 파일이 삭제되었습니다.\n",
      "파일이 삭제되었습니다: SPRi AI Brief_6월호_산업동향 최종.pdf (ID: file-zIEvM2e9fm5TpvwdwzRG1VD6)\n",
      "총 2개의 파일이 삭제되었습니다.\n"
     ]
    }
   ],
   "source": [
    "import time\n",
    "from openai import OpenAI\n",
    "\n",
    "client = OpenAI()\n",
    "assistant = client.beta.assistants.create(\n",
    "    name=\"Retrieval Tool test\",\n",
    "    instructions=\"This assistant will help you retrieve files from the OpenAI API.\",\n",
    "    model=\"gpt-4o-mini\",\n",
    ")\n",
    "files = list(client.files.list())\n",
    "    \n",
    "if not files:\n",
    "    print(\"삭제할 파일이 없습니다.\")\n",
    "\n",
    "\n",
    "print(f\"총 {len(files)}개의 파일을 삭제합니다.\")\n",
    "\n",
    "deleted_count = 0\n",
    "for file in files:\n",
    "    try:\n",
    "        client.files.delete(file.id)\n",
    "        print(f\"파일이 삭제되었습니다: {file.filename} (ID: {file.id})\")\n",
    "        deleted_count += 1\n",
    "        time.sleep(0.5)  # API 요청 간 짧은 대기 시간\n",
    "    except Exception as e:\n",
    "        print(f\"파일 삭제 중 오류 발생: {file.filename} (ID: {file.id})\")\n",
    "        print(f\"오류 메시지: {str(e)}\")\n",
    "    \n",
    "    print(f\"총 {deleted_count}개의 파일이 삭제되었습니다.\")\n"
   ]
  },
  {
   "cell_type": "code",
   "execution_count": 2,
   "metadata": {},
   "outputs": [],
   "source": [
    "# 파일 업로드를 위한 함수를 정의합니다.\n",
    "def upload_files(files):\n",
    "    uploaded_files = []\n",
    "    for filepath in files:\n",
    "        file = client.files.create(\n",
    "            file=open(\n",
    "                # 업로드할 파일의 경로를 지정합니다.\n",
    "                filepath,  # 파일경로. (예시) data/sample.pdf\n",
    "                \"rb\",\n",
    "            ),\n",
    "            purpose=\"assistants\",\n",
    "        )\n",
    "        uploaded_files.append(file.id)\n",
    "        print(f\"[업로드한 파일 ID]\\n{file.id}\")\n",
    "    return uploaded_files"
   ]
  },
  {
   "cell_type": "code",
   "execution_count": 3,
   "metadata": {},
   "outputs": [
    {
     "name": "stdout",
     "output_type": "stream",
     "text": [
      "[업로드한 파일 ID]\n",
      "file-AQULGHjWks1kQK2njsbAwjYF\n",
      "[업로드한 파일 ID]\n",
      "file-rjzc51lhmqvrcnyl0OOb3Unc\n",
      "\n",
      "file_ids :  ['file-AQULGHjWks1kQK2njsbAwjYF', 'file-rjzc51lhmqvrcnyl0OOb3Unc']\n"
     ]
    }
   ],
   "source": [
    "files_to_upload = [\n",
    "    \"/Users/jiminking/Documents/김지민/projects/langchain_study/03.OpenAI/data/SPRi AI Brief_6월호_산업동향 최종.pdf\",\n",
    "    \"/Users/jiminking/Documents/김지민/projects/langchain_study/03.OpenAI/data/SPRI_AI_Brief_2023년12월호.pdf\",\n",
    "]\n",
    "\n",
    "# 파일을 업로드합니다.\n",
    "file_ids = upload_files(files_to_upload)\n",
    "print()\n",
    "print(\"file_ids : \", file_ids)"
   ]
  },
  {
   "cell_type": "code",
   "execution_count": 4,
   "metadata": {},
   "outputs": [
    {
     "name": "stdout",
     "output_type": "stream",
     "text": [
      "[파일 ID] file-rjzc51lhmqvrcnyl0OOb3Unc [파일명] SPRI_AI_Brief_2023년12월호.pdf\n",
      "[파일 ID] file-AQULGHjWks1kQK2njsbAwjYF [파일명] SPRi AI Brief_6월호_산업동향 최종.pdf\n"
     ]
    }
   ],
   "source": [
    "# 업로드한 모든 파일 ID 와 파일명을 출력합니다.\n",
    "for file in client.files.list():\n",
    "    print(f\"[파일 ID] {file.id} [파일명] {file.filename}\")"
   ]
  },
  {
   "cell_type": "code",
   "execution_count": 5,
   "metadata": {},
   "outputs": [],
   "source": [
    "import json\n",
    "\n",
    "\"\"\"\n",
    "`show_json` 함수는 인자로 받은 객체의 모델을 JSON 형태로 변환하여 출력합니다.\n",
    "\"\"\"\n",
    "def show_json(obj):\n",
    "    # obj의 모델을 JSON 형태로 변환한 후 출력합니다.\n",
    "    display(json.loads(obj.model_dump_json()))\n",
    "    \n",
    "ASSISTANT_ID = assistant.id"
   ]
  },
  {
   "cell_type": "code",
   "execution_count": 6,
   "metadata": {},
   "outputs": [
    {
     "data": {
      "text/plain": [
       "{'id': 'asst_PXe29yEDZqV1tnV26wPsrC34',\n",
       " 'created_at': 1722444964,\n",
       " 'description': None,\n",
       " 'instructions': 'You are a expert in Document Retrieval. Answer questions using the uploaded documents.',\n",
       " 'metadata': {},\n",
       " 'model': 'gpt-4o-mini',\n",
       " 'name': 'Retrieval Tool test',\n",
       " 'object': 'assistant',\n",
       " 'tools': [{'type': 'code_interpreter'}],\n",
       " 'response_format': 'auto',\n",
       " 'temperature': 1.0,\n",
       " 'tool_resources': {'code_interpreter': {'file_ids': ['file-rjzc51lhmqvrcnyl0OOb3Unc',\n",
       "    'file-AQULGHjWks1kQK2njsbAwjYF']},\n",
       "  'file_search': None},\n",
       " 'top_p': 1.0}"
      ]
     },
     "metadata": {},
     "output_type": "display_data"
    }
   ],
   "source": [
    "# Assistant 의 설정을 업데이트합니다.\n",
    "assistant = client.beta.assistants.update(\n",
    "    ASSISTANT_ID,\n",
    "    # retrieval 도구를 추가합니다.\n",
    "    tools=[\n",
    "        {\"type\": \"code_interpreter\"},\n",
    "\n",
    "    ],\n",
    "     tool_resources={\n",
    "        \"code_interpreter\": {\n",
    "            \"file_ids\": file_ids}\n",
    "\n",
    "    },\n",
    "    # Assistant 의 역할을 설명합니다.\n",
    "    instructions=\"You are a expert in Document Retrieval. Answer questions using the uploaded documents.\",\n",
    "\n",
    ")\n",
    "\n",
    "# 업데이트된 Assistant 정보를 출력합니다.\n",
    "show_json(assistant)"
   ]
  },
  {
   "cell_type": "code",
   "execution_count": 8,
   "metadata": {},
   "outputs": [
    {
     "data": {
      "text/plain": [
       "{'id': 'thread_fx0Y0RlScTeqXG1kohrksJS3',\n",
       " 'created_at': 1722445028,\n",
       " 'metadata': {},\n",
       " 'object': 'thread',\n",
       " 'tool_resources': {'code_interpreter': None, 'file_search': None}}"
      ]
     },
     "metadata": {},
     "output_type": "display_data"
    }
   ],
   "source": [
    "def create_new_thread():\n",
    "    # 새로운 스레드를 생성합니다.\n",
    "    thread = client.beta.threads.create()\n",
    "    return thread\n",
    "\n",
    "thread = create_new_thread()\n",
    "# 새로운 스레드를 생성합니다.\n",
    "show_json(thread)"
   ]
  },
  {
   "cell_type": "code",
   "execution_count": 10,
   "metadata": {},
   "outputs": [],
   "source": [
    "import time\n",
    "\n",
    "\n",
    "# 반복문에서 대기하는 함수\n",
    "def wait_on_run(run, thread_id):\n",
    "    while run.status == \"queued\" or run.status == \"in_progress\":\n",
    "        # 3-3. 실행 상태를 최신 정보로 업데이트합니다.\n",
    "        run = client.beta.threads.runs.retrieve(\n",
    "            thread_id=thread_id,\n",
    "            run_id=run.id,\n",
    "        )\n",
    "        time.sleep(0.5)\n",
    "    return run\n",
    "\n",
    "\n",
    "def submit_message(assistant_id, thread_id, user_message):\n",
    "    # 3-1. 스레드에 종속된 메시지를 '추가' 합니다.\n",
    "    client.beta.threads.messages.create(\n",
    "        thread_id=thread_id, role=\"user\", content=user_message\n",
    "    )\n",
    "    # 3-2. 스레드를 실행합니다.\n",
    "    run = client.beta.threads.runs.create(\n",
    "        thread_id=thread_id,\n",
    "        assistant_id=assistant_id,\n",
    "    )\n",
    "    return run\n",
    "\n",
    "\n",
    "def get_response(thread_id):\n",
    "    # 3-4. 스레드에 종속된 메시지를 '조회' 합니다.\n",
    "    return client.beta.threads.messages.list(thread_id=thread_id, order=\"asc\")\n",
    "\n",
    "\n",
    "def print_message(response):\n",
    "    for res in response:\n",
    "        print(f\"[{res.role.upper()}]\\n{res.content[0].text.value}\\n\")\n",
    "\n",
    "\n",
    "def ask(assistant_id, thread_id, user_message):\n",
    "    run = submit_message(\n",
    "        assistant_id,\n",
    "        thread_id,\n",
    "        user_message,\n",
    "    )\n",
    "    # 실행이 완료될 때까지 대기합니다.\n",
    "    run = wait_on_run(run, thread_id)\n",
    "    print_message(get_response(thread_id).data[-2:])\n",
    "    return run"
   ]
  },
  {
   "cell_type": "code",
   "execution_count": 11,
   "metadata": {},
   "outputs": [
    {
     "name": "stdout",
     "output_type": "stream",
     "text": [
      "[ASSISTANT]\n",
      "두 개의 파일에서 추출된 텍스트의 초기 내용이 대부분 공백인 것으로 보아, 텍스트 추출에 문제가 발생한 것으로 추정됩니다. 이 경우, PDF 파일의 구조적 요소가 문제를 일으킬 수 있습니다.\n",
      "\n",
      "빌게이츠의 AI 에이전트에 대한 견해가 포함된 내용을 검색하기 위해, 파일들을 다시 분석하여 그들이 포함한 주요 내용을 접할 수 있도록 하겠습니다. 다시 시도해 보겠습니다.\n",
      "\n",
      "[ASSISTANT]\n",
      "두 개의 파일에서 \"빌게이츠\"라는 키워드와 관련된 내용을 찾을 수 없었습니다. 텍스트 추출에 문제가 있었던 것 같아, 내용을 직접 분석하는 데 한계가 있을 수 있습니다. \n",
      "\n",
      "만약 특정 문서를 따로 제공해 주시면, 문서의 내용을 보다 정확하게 분석할 수 있게 됩니다. 추가적인 지원이 필요하시거나 다른 파일을 업로드하시려면 말씀해 주세요. 또는 PDF 파일로부터 직접 언급하고자 하는 내용의 특정 구문을 알려주시면 그 부분을 강조하여 검색하도록 하겠습니다.\n",
      "\n"
     ]
    }
   ],
   "source": [
    "ASSISTANT_ID = assistant.id  # 업데이트된 Assistant ID를 지정합니다.\n",
    "thread_id = create_new_thread().id  # 새로운 스레드를 생성합니다.\n",
    "\n",
    "# 질문을 던집니다.\n",
    "run = ask(\n",
    "    ASSISTANT_ID,\n",
    "    thread_id,\n",
    "    \"빌게이츠의 AI 에이전트에 대한 견해를 SPRI_AI_Brief_2023년12월호.pdf 파일에서 검색하여 알려주세요. \"\n",
    "    \"200~300 단어로 자세히 설명해 주세요. 반드시 한글로 써주세요\",\n",
    ")"
   ]
  },
  {
   "cell_type": "markdown",
   "metadata": {},
   "source": [
    "할루시네이션 발생 안함!!!!! "
   ]
  },
  {
   "cell_type": "code",
   "execution_count": 12,
   "metadata": {},
   "outputs": [
    {
     "name": "stdout",
     "output_type": "stream",
     "text": [
      "[USER]\n",
      "SPRI_AI_Brief_2023년12월호.pdf 파일을 요약해주세요. \n",
      "\n",
      "[ASSISTANT]\n",
      "PDF 파일에서 텍스트를 추출할 수 없거나 내용이 읽을 수 없는 형식으로 되어 있는 것으로 보입니다. 이러한 경우에는 PDF 파일을 직접 여는 접근이 필요할 수 있습니다.\n",
      "\n",
      "대안을 위해, 만약 PDF의 내용을 요약하고자 하신다면, PDF 파일을 통해 특정 페이지를 선택하여 그 내용을 붙여넣어 주시면 그 내용을 바탕으로 요약할 수 있습니다. 혹은 PDF 파일의 다른 버전을 제공하셔도 좋습니다. 이렇게 하면 필요한 정보를 보다 정확히 제공할 수 있습니다. 추가 지침이나 정보를 기다리고 있습니다.\n",
      "\n"
     ]
    }
   ],
   "source": [
    "run = ask(\n",
    "    ASSISTANT_ID,\n",
    "    thread_id,\n",
    "    \"SPRI_AI_Brief_2023년12월호.pdf 파일을 요약해주세요. \")\n",
    "   "
   ]
  },
  {
   "cell_type": "markdown",
   "metadata": {},
   "source": [
    "아래는 이전에 도출한 답변을 얻기까지 Assistant 가 수행한 단계를 출력한 결과입니다.\n",
    "\n",
    "단계\n",
    "\n",
    "1. `tool_calls`: 먼저, `retrieval` 도구를 사용하여 파일에서 정보를 검색합니다.\n",
    "2. `message_createion`: 그런다음, 검색된 정보를 사용하여 답변을 생성합니다.\n"
   ]
  },
  {
   "cell_type": "code",
   "execution_count": 13,
   "metadata": {},
   "outputs": [
    {
     "data": {
      "text/plain": [
       "{'tool_calls': [{'id': 'call_9RDp0JsLpWoV1UYRxu00cDSS',\n",
       "   'code_interpreter': {'input': \"# SPRI_AI_Brief_2023년12월호.pdf 파일을 읽어들여 요약하기 위해\\r\\n# 파일 이름 확인 후 해당 파일 텍스트를 재추출 시도\\r\\nfile_path_pdf = '/mnt/data/file-AQULGHjWks1kQK2njsbAwjYF'\\r\\n\\r\\n# PDF 파일 읽어들이기\\r\\ntext_content_pdf = extract_text_from_pdf(file_path_pdf)\\r\\n\\r\\n# 처음 1000자 확인\\r\\ntext_content_pdf[:1000]\",\n",
       "    'outputs': []},\n",
       "   'type': 'code_interpreter'}],\n",
       " 'type': 'tool_calls'}"
      ]
     },
     "metadata": {},
     "output_type": "display_data"
    },
    {
     "data": {
      "text/plain": [
       "{'message_creation': {'message_id': 'msg_mPiQEdlkIw31dj8kXPmi3GQu'},\n",
       " 'type': 'message_creation'}"
      ]
     },
     "metadata": {},
     "output_type": "display_data"
    }
   ],
   "source": [
    "run_steps = client.beta.threads.runs.steps.list(\n",
    "    thread_id=thread_id, run_id=run.id, order=\"asc\"\n",
    ")\n",
    "\n",
    "for step in run_steps.data:\n",
    "    # 각 단계의 세부 정보를 가져옵니다.\n",
    "    step_details = step.step_details\n",
    "    # 세부 정보를 JSON 형식으로 출력합니다.\n",
    "    show_json(step_details)"
   ]
  },
  {
   "cell_type": "code",
   "execution_count": 15,
   "metadata": {},
   "outputs": [
    {
     "name": "stdout",
     "output_type": "stream",
     "text": [
      "[USER]\n",
      "Language Models are Unsupervised Multitask Learners 논문에서 가장 크게 기여한 연구 성과는 무엇인가요? 200~300 단어로 자세히 한글로 설명해 주세요. 단, 기술적인 용어는 번역하지 마세요.\n",
      "\n",
      "[ASSISTANT]\n",
      "현재 저에게 업로드된 파일 목록에서는 \"Language Models are Unsupervised Multitask Learners\" 논문에 대한 파일이 존재하지 않습니다. 하지만 해당 논문의 주요 기여를 요약하여 설명할 수 있습니다.\n",
      "\n",
      "\"Language Models are Unsupervised Multitask Learners\" 논문은 GPT (Generative Pre-trained Transformer) 모델의 기초가 되는 연구로, 자연어 처리(NLP) 분야에서의 혁신적인 기여로 평가됩니다. 이 연구의 가장 큰 성과는 대규모 언어 모델이 다양한 언어 처리 작업에서 뛰어난 성능을 발휘할 수 있다는 것을 입증한 것입니다. \n",
      "\n",
      "논문에서는 대규모 데이터셋에 대한 비지도 학습을 통해 모델이 다양한 작업에 대한 지식을 학습할 수 있음을 보여주었습니다. 특히, 이러한 모델이 여러 작업에서의 미세 조정(fine-tuning 없이) 수행하도록 훈련되었음에도 불구하고, 자연어 이해(NLU) 및 생성(NLG) 작업에서 우수한 성능을 나타내는 것을 강조했습니다. \n",
      "\n",
      "또한, 이 연구는 사전 학습된 언어 모델이 간단한 작업에서부터 복잡한 작업까지 하나의 모델로 해결할 수 있는 가능성을 보여주며, 이는 Multi-task Learning의 효율성을 극대화했습니다. 결과적으로, 다양한 어플리케이션에서 높은 정확도와 성능을 달성할 수 있는 기초가 되었으며, 이는 후속 연구와 기술 발전에 큰 영향을 미쳤습니다. \n",
      "\n",
      "이를 통해 GPT와 같은 모델들이 이후 NLP 연구 및 응용 분야에서 중심적인 역할을 하게 됨을 알 수 있습니다.\n",
      "\n"
     ]
    }
   ],
   "source": [
    "run = ask(\n",
    "    ASSISTANT_ID,\n",
    "    thread_id,\n",
    "    \"Language Models are Unsupervised Multitask Learners 논문에서 가장 크게 기여한 연구 성과는 무엇인가요? \"\n",
    "    \"200~300 단어로 자세히 한글로 설명해 주세요. 단, 기술적인 용어는 번역하지 마세요.\",\n",
    ")"
   ]
  },
  {
   "cell_type": "markdown",
   "metadata": {},
   "source": [
    "끝으로, 검색에는 [Annotations](https://platform.openai.com/docs/assistants/how-it-works/managing-threads-and-messages)와 같은 더 많은 복잡한 부분이 있으며, 이는 다른 쿡북에서 다고 함.\n"
   ]
  },
  {
   "cell_type": "markdown",
   "metadata": {},
   "source": []
  },
  {
   "cell_type": "markdown",
   "metadata": {},
   "source": []
  },
  {
   "cell_type": "markdown",
   "metadata": {},
   "source": [
    "뭔가 이상하지만.. 다시 찾아봐야할듯 일단 다음 실습으로... 쉬는시간 타임.."
   ]
  }
 ],
 "metadata": {
  "kernelspec": {
   "display_name": "langchain-wiset",
   "language": "python",
   "name": "python3"
  },
  "language_info": {
   "codemirror_mode": {
    "name": "ipython",
    "version": 3
   },
   "file_extension": ".py",
   "mimetype": "text/x-python",
   "name": "python",
   "nbconvert_exporter": "python",
   "pygments_lexer": "ipython3",
   "version": "3.11.9"
  }
 },
 "nbformat": 4,
 "nbformat_minor": 2
}
