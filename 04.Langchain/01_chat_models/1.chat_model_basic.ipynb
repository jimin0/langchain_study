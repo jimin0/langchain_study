{
 "cells": [
  {
   "cell_type": "markdown",
   "metadata": {},
   "source": [
    "## 거의 모든 LLM이 지원하는 기본 형태 = Chat Model\n",
    "\n",
    "#### 만약 밑에 있는 table에 나와 있지 않은 LLM들은 vLLM Chat이라고 하며, ChatOpenAI 형태를 그대로 씀.\n",
    "- Chat Model Documents: https://python.langchain.com/v0.2/docs/integrations/chat/\n",
    "- OpenAI Chat Model Documents: https://python.langchain.com/v0.2/docs/integrations/chat/openai/"
   ]
  },
  {
   "cell_type": "code",
   "execution_count": 1,
   "metadata": {},
   "outputs": [
    {
     "data": {
      "text/plain": [
       "True"
      ]
     },
     "execution_count": 1,
     "metadata": {},
     "output_type": "execute_result"
    }
   ],
   "source": [
    "from dotenv import load_dotenv\n",
    "from langchain_openai import ChatOpenAI\n",
    "\n",
    "load_dotenv()"
   ]
  },
  {
   "cell_type": "code",
   "execution_count": 2,
   "metadata": {},
   "outputs": [],
   "source": [
    "# Create a ChatOpenAI model\n",
    "model = ChatOpenAI()\n",
    "\n",
    "# Invoke the model with a message\n",
    "result = model.invoke(\"한국의 수도는 어디인가요?\")\n"
   ]
  },
  {
   "cell_type": "code",
   "execution_count": 3,
   "metadata": {},
   "outputs": [
    {
     "name": "stdout",
     "output_type": "stream",
     "text": [
      "Full result:\n",
      "content='한국의 수도는 서울입니다.' response_metadata={'token_usage': {'completion_tokens': 12, 'prompt_tokens': 21, 'total_tokens': 33}, 'model_name': 'gpt-3.5-turbo-0125', 'system_fingerprint': None, 'finish_reason': 'stop', 'logprobs': None} id='run-99b29095-6cd1-4fb0-8daf-d896657f08ff-0' usage_metadata={'input_tokens': 21, 'output_tokens': 12, 'total_tokens': 33}\n"
     ]
    }
   ],
   "source": [
    "print(\"Full result:\")\n",
    "print(result)"
   ]
  },
  {
   "cell_type": "code",
   "execution_count": 4,
   "metadata": {},
   "outputs": [
    {
     "name": "stdout",
     "output_type": "stream",
     "text": [
      "Content only:\n",
      "한국의 수도는 서울입니다.\n"
     ]
    }
   ],
   "source": [
    "print(\"Content only:\")\n",
    "print(result.content)"
   ]
  }
 ],
 "metadata": {
  "kernelspec": {
   "display_name": "base",
   "language": "python",
   "name": "python3"
  },
  "language_info": {
   "codemirror_mode": {
    "name": "ipython",
    "version": 3
   },
   "file_extension": ".py",
   "mimetype": "text/x-python",
   "name": "python",
   "nbconvert_exporter": "python",
   "pygments_lexer": "ipython3",
   "version": "3.11.9"
  }
 },
 "nbformat": 4,
 "nbformat_minor": 2
}
