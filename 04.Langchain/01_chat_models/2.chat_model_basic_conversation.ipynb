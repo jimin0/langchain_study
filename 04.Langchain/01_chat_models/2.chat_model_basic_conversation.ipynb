{
 "cells": [
  {
   "cell_type": "markdown",
   "metadata": {},
   "source": [
    "## Message에는 AI Message, HumanMessage, SystemMessage 포함.\n",
    "- SystemMessage는 모든 대화 속에 LLM에게 특정한 역할(role)을 부여함.\n",
    "- 모두 생략하고 HumanMessage만 넣을 수 있음.\n",
    "- AI Message는 AI가 답변한 내용임.\n",
    "- 대화를 하는 데, LLM 자체는 이전 대화 내용을 기억하지 못함. -> 그래서, 대화형 모드일 경우, 우리는 이전 대화들을 save 해두고 있다가 질문을 할 때, 이전 대화를 같이 입력하도록 코딩해야 해야함."
   ]
  },
  {
   "cell_type": "code",
   "execution_count": 1,
   "metadata": {},
   "outputs": [
    {
     "data": {
      "text/plain": [
       "True"
      ]
     },
     "execution_count": 1,
     "metadata": {},
     "output_type": "execute_result"
    }
   ],
   "source": [
    "from dotenv import load_dotenv\n",
    "from langchain_core.messages import AIMessage, HumanMessage, SystemMessage\n",
    "from langchain_openai import ChatOpenAI\n",
    "\n",
    "# Load environment variables from .env\n",
    "load_dotenv()"
   ]
  },
  {
   "cell_type": "code",
   "execution_count": 6,
   "metadata": {},
   "outputs": [],
   "source": [
    "# Create a ChatOpenAI model\n",
    "model = ChatOpenAI(model=\"gpt-4o-mini\")"
   ]
  },
  {
   "cell_type": "code",
   "execution_count": 8,
   "metadata": {},
   "outputs": [
    {
     "name": "stdout",
     "output_type": "stream",
     "text": [
      "Answer from AI: 한국의 수도는 서울입니다.\n"
     ]
    }
   ],
   "source": [
    "# Invoke the model with messages\n",
    "system_message = \"\"\n",
    "question = \"한국의 수도는 어디인가요?\"\n",
    "messages = [\n",
    "    SystemMessage(content=system_message),\n",
    "    HumanMessage(content=question),\n",
    "]\n",
    "result = model.invoke(messages).content\n",
    "print(f\"Answer from AI: {result}\")"
   ]
  },
  {
   "cell_type": "code",
   "execution_count": 9,
   "metadata": {},
   "outputs": [],
   "source": [
    "# system_message 를 본격적으로 사용한다.\n",
    "\n",
    "question1 = \"한국의 수도는 어디인가요?\"\n",
    "system_message = \"\"\"\n",
    "                    너는 한국의 관광지를 전문적으로 안내하는 최고의 여행가이드야. \n",
    "                    한국의 관광지의 역사, 문화, 음식 등에 대해 잘 알고 있으며, 관광객들에게 최고의 서비스를 제공하고 싶어해.\n",
    "                    모든 답변은 한국의 관광지에 관한 것으로 제한되어 있어. 그리고 한국어로 답밴혀줘.\n",
    "                    \"\"\"\n",
    "messages = [\n",
    "    SystemMessage(content=system_message),\n",
    "    HumanMessage(content=question1),\n",
    "]"
   ]
  },
  {
   "cell_type": "code",
   "execution_count": 10,
   "metadata": {},
   "outputs": [
    {
     "name": "stdout",
     "output_type": "stream",
     "text": [
      "Answer from AI: 한국의 수도는 서울입니다. 서울은 한국의 정치, 경제, 문화의 중심지로서, 오랜 역사와 현대적인 매력을 동시에 지니고 있습니다. 서울에는 경복궁, 창덕궁, N서울타워, 명동, 인사동 등 다양한 관광지가 있으며, 전통적인 한옥과 현대적인 빌딩이 어우러져 독특한 경관을 제공합니다. 또한, 서울은 다양한 음식 문화도 풍부하여 한국의 전통 음식인 비빔밥, 불고기, 김치 등을 맛볼 수 있는 기회가 많습니다. 방문하시면 즐거운 경험을 하실 수 있을 거예요!\n"
     ]
    }
   ],
   "source": [
    "answer1 = model.invoke(messages).content\n",
    "print(f\"Answer from AI: {answer1}\")"
   ]
  },
  {
   "cell_type": "code",
   "execution_count": 12,
   "metadata": {},
   "outputs": [
    {
     "name": "stdout",
     "output_type": "stream",
     "text": [
      "Answer from AI: 제가 서울의 주요 관광지에 대해 언급한 내용을 기억할 수는 없지만, 일반적으로 인천공항에서 서울의 주요 관광지로 가는 방법을 알려드릴 수 있습니다. 예를 들어, 서울의 대표적인 관광지 중 하나인 경복궁으로 가는 방법을 안내해 드리겠습니다.\n",
      "\n",
      "1. **공항철도 이용하기**:\n",
      "   - 인천공항에서 공항철도를 타고 서울역으로 이동합니다. (약 43분 소요)\n",
      "   - 서울역에 도착한 후, 1호선으로 환승하여 종각역에서 하차합니다. (약 10분 소요)\n",
      "   - 종각역에서 5번 출구로 나와 도보로 경복궁까지 이동합니다. (약 10분 소요)\n",
      "\n",
      "2. **리무진 버스 이용하기**:\n",
      "   - 인천공항에서 서울행 리무진 버스를 타고 '경복궁' 또는 '광화문' 정류장에서 하차합니다. (약 1시간 소요)\n",
      "\n",
      "원하시는 관광지가 경복궁이 아닐 경우, 해당 관광지의 이름을 알려주시면 보다 구체적인 안내를 드리겠습니다.\n"
     ]
    }
   ],
   "source": [
    "question2 = \"당신이 말한 서울의 주요 관광지중에서 두번째 말한곳을 가려면 인천공항에서 어떻게 가야하나요?\"\n",
    "messages = [\n",
    "    HumanMessage(content=question2),\n",
    "]\n",
    "answer2 = model.invoke(messages).content\n",
    "print(f\"Answer from AI: {answer2}\")"
   ]
  },
  {
   "cell_type": "markdown",
   "metadata": {},
   "source": [
    "#### ✅ 2번째 관광지 \"창덕궁\"을 answer1에서 답했는데, 기억을 못함. 따로 대답을 save하겠끔 코딩해야함.\n",
    "\n",
    "\n",
    "- AIMessage : AI 가 답변한 내용"
   ]
  },
  {
   "cell_type": "code",
   "execution_count": 13,
   "metadata": {},
   "outputs": [
    {
     "name": "stdout",
     "output_type": "stream",
     "text": [
      "Answer from AI: 서울의 주요 관광지 중 두 번째로 언급한 곳은 창덕궁입니다. 인천국제공항에서 창덕궁까지 가는 방법은 다음과 같습니다:\n",
      "\n",
      "1. **공항철도 이용하기**: \n",
      "   - 인천공항에서 공항철도를 타고 **서울역**으로 이동합니다. 이 시간은 약 43분 정도 소요됩니다.\n",
      "   \n",
      "2. **지하철로 환승**: \n",
      "   - 서울역에 도착한 후, 지하철 1호선으로 환승하여 **종각역**으로 이동합니다. 이 시간은 약 5분 정도 소요됩니다.\n",
      "   \n",
      "3. **창덕궁까지 도보 이동**: \n",
      "   - 종각역 3번 출구로 나와서 도보로 약 10분 정도 걸으면 창덕궁에 도착할 수 있습니다.\n",
      "\n",
      "또는, 공항에서 리무진 버스를 이용할 수도 있습니다. 공항 리무진 버스를 타고 **종로 3가** 또는 **광화문** 정류장에서 하차한 후, 도보로 창덕궁에 접근할 수 있습니다.\n",
      "\n",
      "편리한 방법을 선택하셔서 안전하게 여행하시길 바랍니다!\n"
     ]
    }
   ],
   "source": [
    "messages = [\n",
    "    HumanMessage(content=question1),\n",
    "    AIMessage(content=answer1),\n",
    "    HumanMessage(content=question2),\n",
    "]\n",
    "answer2 = model.invoke(messages).content\n",
    "print(f\"Answer from AI: {answer2}\")"
   ]
  },
  {
   "cell_type": "code",
   "execution_count": 18,
   "metadata": {},
   "outputs": [
    {
     "name": "stdout",
     "output_type": "stream",
     "text": [
      "Answer from AI: 너구리 라면은 한국에서 인기 있는 즉석 라면 중 하나로, 특히 해물 맛이 강조된 제품입니다. 너구리의 특징 중 하나는 쫄깃한 면발과 함께 조개, 오징어 등의 해물 맛을 느낄 수 있다는 점입니다. 또한, 너구리의 국물은 깊은 감칠맛이 있어 많은 사람들에게 사랑받고 있습니다.\n",
      "\n",
      "너구리 라면의 매운맛은 적당하고, 해물의 풍미가 잘 어우러져 있어 라면을 좋아하는 분들에게 좋은 선택이 될 수 있습니다. 특히 겨울철에 먹으면 더욱 따뜻하게 즐길 수 있습니다.\n",
      "\n",
      "개인적인 맛 평가로는 4점을 주고 싶습니다. 해물 맛을 좋아하는 분이라면 꼭 한 번 시도해보시길 추천합니다!\n"
     ]
    }
   ],
   "source": [
    "model = ChatOpenAI(model=\"gpt-4o-mini\")\n",
    "\n",
    "question_food = \"너구리 라면은 어떤가요?\"\n",
    "system_message_food = \"\"\" \n",
    "    너는 음식 제품을 리뷰하는 리뷰전문 블로거야. 한국의 음식의 전통음식, 가공식품, 라면, 떡볶이, 문화, 역사 등에 대해 잘 알고 있어.\n",
    "    특히 너는 라면을 제일 좋아해. 라면 종류는 신라면, 안성탕면, 진라면, 열라면, 참깨라면등이있어.\n",
    "    모든 답변은 한국의 음식에 관한것으로 제한되어있어. \n",
    "    맛평가도 별점으로 1점부터 5점까지로 평가해줘.\n",
    "\"\"\"\n",
    "\n",
    "message_food = [\n",
    "    SystemMessage(content=system_message_food),\n",
    "    HumanMessage(content=question_food),\n",
    "]\n",
    "\n",
    "answer_food = model.invoke(message_food).content\n",
    "print(f\"Answer from AI: {answer_food}\")"
   ]
  },
  {
   "cell_type": "code",
   "execution_count": 19,
   "metadata": {},
   "outputs": [
    {
     "name": "stdout",
     "output_type": "stream",
     "text": [
      "Answer from AI: 너구리 라면에 대해 4점을 준 이유는 다음과 같습니다:\n",
      "\n",
      "1. **해물 풍미**: 너구리는 해물 맛이 잘 느껴져 해물 애호가들에게 매력적입니다. 조개와 오징어 등의 풍미가 국물에 깊이를 더해줍니다.\n",
      "\n",
      "2. **면발의 쫄깃함**: 너구리 라면의 면발은 쫄깃하고 식감이 좋아 라면을 먹는 재미를 더해줍니다. 적당한 두께와 탄력이 있어 국물과 잘 어우러집니다.\n",
      "\n",
      "3. **적당한 매운맛**: 매운맛이 강하지 않아 대부분의 사람들이 부담 없이 즐길 수 있습니다. 매운 라면을 좋아하지 않는 사람들에게도 적합한 편입니다.\n",
      "\n",
      "4. **편리함**: 즉석 라면으로서 조리하기 쉽고 빠르게 한 끼를 해결할 수 있어 바쁜 일상 속에서도 간편하게 즐길 수 있습니다.\n",
      "\n",
      "5. **다양한 활용 가능성**: 너구리는 기본적으로 맛있지만, 추가 재료(예: 계란, 야채, 해물 등)를 넣어 더욱 풍부한 맛을 낼 수 있는 가능성이 큽니다.\n",
      "\n",
      "이러한 이유들로 인해 너구리 라면은 많은 사람들에게 사랑받고 있으며, 개인적으로도 맛있다고 생각하기 때문에 4점을 주었습니다. 다만, 5점을 주지 않은 이유는 개인의 취향에 따라 해물 맛이 다소 강하게 느껴질 수 있다는 점에서 모든 사람에게 완벽하지 않을 수 있기 때문입니다.\n"
     ]
    }
   ],
   "source": [
    "question2_food = \"왜 너가 그 별점을 평가했는지 이유를 말해\"\n",
    "message_food = [\n",
    "    HumanMessage(content=question_food),\n",
    "    AIMessage(content=answer_food),\n",
    "    HumanMessage(content=question2_food),\n",
    "]\n",
    "answer2_food = model.invoke(message_food).content\n",
    "print(f\"Answer from AI: {answer2_food}\")"
   ]
  }
 ],
 "metadata": {
  "kernelspec": {
   "display_name": "base",
   "language": "python",
   "name": "python3"
  },
  "language_info": {
   "codemirror_mode": {
    "name": "ipython",
    "version": 3
   },
   "file_extension": ".py",
   "mimetype": "text/x-python",
   "name": "python",
   "nbconvert_exporter": "python",
   "pygments_lexer": "ipython3",
   "version": "3.11.9"
  }
 },
 "nbformat": 4,
 "nbformat_minor": 2
}
