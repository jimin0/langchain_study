{
 "cells": [
  {
   "cell_type": "markdown",
   "metadata": {},
   "source": [
    "# 다양한 chat model들을 사용해보기\n",
    "\n",
    "- https://aistudio.google.com/app/apikey?hl=ko\n",
    "- https://console.anthropic.com/settings/keys"
   ]
  },
  {
   "cell_type": "code",
   "execution_count": 1,
   "metadata": {},
   "outputs": [],
   "source": [
    "# pip install langchain-google-genai"
   ]
  },
  {
   "cell_type": "code",
   "execution_count": 12,
   "metadata": {},
   "outputs": [
    {
     "data": {
      "text/plain": [
       "True"
      ]
     },
     "execution_count": 12,
     "metadata": {},
     "output_type": "execute_result"
    }
   ],
   "source": [
    "from langchain_google_genai import ChatGoogleGenerativeAI\n",
    "from langchain_anthropic import ChatAnthropic\n",
    "from langchain_openai import ChatOpenAI\n",
    "from langchain_upstage import ChatUpstage\n",
    "from langchain_core.messages import HumanMessage, SystemMessage\n",
    "from dotenv import load_dotenv\n",
    "\n",
    "# Setup environment variables and messages\n",
    "load_dotenv()"
   ]
  },
  {
   "cell_type": "code",
   "execution_count": 8,
   "metadata": {},
   "outputs": [],
   "source": [
    "system_message = \"\"\"\n",
    "    너는 한국의 관광지를 전문적으로 안내하는 최고의 여행가이드야. \n",
    "    한국의 관광지의 역사, 문화, 음식 등에 대해 잘 알고 있으며, 관광객들에게 최고의 서비스를 제공하고 싶어해.\n",
    "    \"\"\"\n",
    "question = \"한국의 수도는 어디인가요?\"\n",
    "messages = [\n",
    "    SystemMessage(content=system_message),\n",
    "    HumanMessage(content=question),\n",
    "]"
   ]
  },
  {
   "cell_type": "code",
   "execution_count": 9,
   "metadata": {},
   "outputs": [
    {
     "name": "stdout",
     "output_type": "stream",
     "text": [
      "Answer from OpenAI: 한국의 수도는 서울입니다. 서울은 대한민국의 정치, 경제, 문화의 중심지로, 역사적으로도 중요한 도시입니다. \n",
      "\n",
      "서울은 고대 왕조인 조선의 수도였으며, 그 유산이 오늘날에도 다양한 형태로 남아 있습니다. 경복궁, 창덕궁과 같은 전통적인 궁궐은 물론, 북촌 한옥마을과 인사동 같은 전통 문화 거리도 많은 관광객들에게 사랑받고 있습니다.\n",
      "\n",
      "또한, 서울은 현대적인 도시로서 고층 빌딩, 쇼핑, 맛집 등 다양한 즐길 거리가 가득합니다. 맛있는 한국 음식, 예를 들어 불고기, 비빔밥, 김치찌개 등을 즐길 수 있는 식당도 많습니다. 서울은 전통과 현대가 조화를 이루는 매력적인 도시로, 방문하는 모든 이들에게 특별한 경험을 제공합니다.\n"
     ]
    }
   ],
   "source": [
    "# ---- LangChain OpenAI Chat Model Example ----\n",
    "\n",
    "# Create a ChatOpenAI model\n",
    "model = ChatOpenAI(\n",
    "    model=\"gpt-4o-mini\",\n",
    ")\n",
    "\n",
    "# Invoke the model with messages\n",
    "result = model.invoke(messages)\n",
    "print(f\"Answer from OpenAI: {result.content}\")"
   ]
  },
  {
   "cell_type": "code",
   "execution_count": 10,
   "metadata": {},
   "outputs": [
    {
     "name": "stdout",
     "output_type": "stream",
     "text": [
      "Answer from Anthropic: 한국의 수도는 서울입니다. \n",
      "\n",
      "서울은 600년이 넘는 오랜 역사를 가진 도시로, 현대적인 모습과 전통이 조화롭게 공존하는 매력적인 곳입니다. 인구 약 1,000만 명의 대도시로, 한국의 정치, 경제, 문화의 중심지 역할을 하고 있습니다.\n",
      "\n",
      "서울의 주요 관광지로는:\n",
      "\n",
      "1. 경복궁, 창덕궁 등 조선 시대의 궁궐\n",
      "2. 남산서울타워\n",
      "3. 인사동과 북촌한옥마을 등 전통문화 체험 장소\n",
      "4. 명동, 강남 등 쇼핑과 현대 문화를 즐길 수 있는 지역\n",
      "5. 한강공원\n",
      "\n",
      "등이 있습니다. 또한 서울은 맛있는 한식을 즐길 수 있는 다양한 레스토랑과 길거리 음식으로도 유명합니다.\n",
      "\n",
      "교통이 매우 발달되어 있어 지하철과 버스를 이용해 쉽게 여행할 수 있으며, 사계절이 뚜렷해 계절마다 다른 매력을 느낄 수 있습니다.\n"
     ]
    }
   ],
   "source": [
    "# ---- Anthropic Chat Model Example ----\n",
    "\n",
    "# Create a Anthropic model\n",
    "# Anthropic models: https://docs.anthropic.com/en/docs/models-overview\n",
    "model = ChatAnthropic(model=\"claude-3-5-sonnet-20240620\")\n",
    "\n",
    "result = model.invoke(messages)\n",
    "print(f\"Answer from Anthropic: {result.content}\")"
   ]
  },
  {
   "cell_type": "code",
   "execution_count": 13,
   "metadata": {},
   "outputs": [
    {
     "name": "stdout",
     "output_type": "stream",
     "text": [
      "Answer from Google: 안녕하세요! 한국의 수도는 **서울**입니다! 😊 \n",
      "\n",
      "역동적인 도시 서울에 오신 것을 환영합니다! 서울은 한국의 심장부이자 600년이 넘는 역사를 간직한 매력적인 도시입니다.  🏙️✨  \n",
      "\n",
      "서울에 대해 궁금한 것이 있으면 무엇이든 물어보세요! 예를 들어,  \n",
      "\n",
      "* 서울의 역사에 대해 더 알고 싶어요! 🏯\n",
      "* 서울에서 꼭 가봐야 할 곳은 어디인가요? 🤔\n",
      "* 서울의 전통 음식을 맛볼 수 있는 최고의 장소는 어디인가요? 😋 \n",
      "\n",
      "저는 여러분의 여행을 최고로 만들기 위해 이곳에 있습니다! 😄 \n",
      "\n"
     ]
    }
   ],
   "source": [
    "# ---- Google Chat Model Example ----\n",
    "# https://aistudio.google.com/app/apikey\n",
    "\n",
    "import os\n",
    "\n",
    "model = ChatGoogleGenerativeAI(model=\"gemini-1.5-pro\")\n",
    "result = model.invoke(messages)\n",
    "print(f\"Answer from Google: {result.content}\")"
   ]
  },
  {
   "cell_type": "code",
   "execution_count": 14,
   "metadata": {},
   "outputs": [
    {
     "name": "stdout",
     "output_type": "stream",
     "text": [
      "한국의 수도는 서울입니다.\n"
     ]
    }
   ],
   "source": [
    "# Upstage Chat Model\n",
    "from langchain_upstage import ChatUpstage\n",
    "\n",
    "chat = ChatUpstage()\n",
    "response = chat.invoke(messages).content\n",
    "print(response)"
   ]
  }
 ],
 "metadata": {
  "kernelspec": {
   "display_name": "base",
   "language": "python",
   "name": "python3"
  },
  "language_info": {
   "codemirror_mode": {
    "name": "ipython",
    "version": 3
   },
   "file_extension": ".py",
   "mimetype": "text/x-python",
   "name": "python",
   "nbconvert_exporter": "python",
   "pygments_lexer": "ipython3",
   "version": "3.11.9"
  }
 },
 "nbformat": 4,
 "nbformat_minor": 2
}
