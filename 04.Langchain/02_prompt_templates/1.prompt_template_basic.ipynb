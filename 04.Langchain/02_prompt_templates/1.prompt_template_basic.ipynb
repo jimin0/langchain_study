{
 "cells": [
  {
   "cell_type": "markdown",
   "metadata": {},
   "source": [
    "### 프롬프트 템플릿 (Prompt Template)\n",
    "\n",
    "프롬프트 템플릿은 다음과 같은 상황에서 유용하게 사용할 수 있습니다:\n",
    "\n",
    "1. **여러 항목에 따라 같은 질문을 바꿔가며 질문할 때**\n",
    "2. **같은 형식의 문서를 반복해서 작성할 때 (보고서, 이메일 등)**\n",
    "\n",
    "프롬프트 템플릿을 사용하면, 문서의 기본 구조를 미리 정해놓고 필요할 때마다 같은 형식의 문서를 쉽게 만들 수 있습니다. 예를 들어, 다음과 같은 요소를 템플릿으로 설정할 수 있습니다:\n",
    "\n",
    "- {문서명}\n",
    "- {날짜}\n",
    "- {보고자}\n",
    "- {보고받는사람}\n",
    "- {내용}\n",
    "\n",
    "이런 방식으로, 반복적인 작업을 효율적으로 처리할 수 있습니다.\n",
    "\n",
    "자세한 내용은 [Docs](https://python.langchain.com/v0.2/docs/concepts/#prompt-templates)를 참고\n"
   ]
  },
  {
   "cell_type": "markdown",
   "metadata": {},
   "source": [
    "### langchain에서 `PromptTemplate`와 `ChatPromptTemplate`의 차이\n",
    "\n",
    "`langchain`에서 `PromptTemplate`와 `ChatPromptTemplate`는 프롬프트 템플릿을 생성하는 데 사용되지만, 그 용도와 사용 방식에는 차이가 있습니다. 다음은 이 두 가지의 주요 차이점입니다:\n",
    "\n",
    "#### `PromptTemplate`\n",
    "\n",
    "- **용도**: 일반 텍스트 프롬프트를 생성하는 데 사용됩니다.\n",
    "- **사용 예**: 단순한 입력을 받아서 특정 형식의 출력을 생성할 때 유용합니다.\n",
    "- **구성 요소**: 일반적으로 텍스트와 플레이스홀더로 구성되며, 플레이스홀더는 나중에 실제 값으로 대체됩니다.\n"
   ]
  },
  {
   "cell_type": "code",
   "execution_count": 10,
   "metadata": {},
   "outputs": [
    {
     "data": {
      "text/plain": [
       "StringPromptValue(text='Tell me a joke about 개')"
      ]
     },
     "execution_count": 10,
     "metadata": {},
     "output_type": "execute_result"
    }
   ],
   "source": [
    "from langchain_core.prompts import PromptTemplate\n",
    "\n",
    "prompt_template = PromptTemplate.from_template(\"Tell me a joke about {topic}\")\n",
    "\n",
    "prompt_template.invoke({\"topic\": \"cats\"})\n",
    "prompt_template.invoke({\"topic\": \"개\"})"
   ]
  },
  {
   "cell_type": "code",
   "execution_count": 12,
   "metadata": {},
   "outputs": [
    {
     "data": {
      "text/plain": [
       "'Translate the following English text to French: Hello, how are you?'"
      ]
     },
     "execution_count": 12,
     "metadata": {},
     "output_type": "execute_result"
    }
   ],
   "source": [
    "from langchain.prompts import PromptTemplate\n",
    "\n",
    "template = \"Translate the following English text to French: {text}\"\n",
    "prompt = PromptTemplate(template=template, input_variables=[\"text\"])\n",
    "\n",
    "# 사용 예\n",
    "prompt.format(text=\"Hello, how are you?\")\n",
    "# 출력: \"Translate the following English text to French: Hello, how are you?\""
   ]
  },
  {
   "cell_type": "code",
   "execution_count": 20,
   "metadata": {},
   "outputs": [
    {
     "name": "stdout",
     "output_type": "stream",
     "text": [
      "Say bar\n",
      "input_variables=['hello'] template='Say {hello}'\n"
     ]
    }
   ],
   "source": [
    "from langchain_core.prompts import PromptTemplate\n",
    "\n",
    "# from_template 메서드를 사용하여 인스턴스화 (권장되는 방법)\n",
    "prompt = PromptTemplate.from_template(\"Say {foo}\")\n",
    "formatted_prompt = prompt.format(foo=\"bar\")\n",
    "print(formatted_prompt)  # 출력: \"Say bar\"\n",
    "\n",
    "# Instantiation using initializer\n",
    "prompt = PromptTemplate(template=\"Say {hello}\")\n",
    "print(prompt)"
   ]
  },
  {
   "cell_type": "markdown",
   "metadata": {},
   "source": [
    "#### `ChatPromptTemplate`\n",
    "\n",
    "- **용도**: 대화형 프롬프트를 생성하는 데 사용됩니다. 주로 챗봇이나 대화형 AI 모델을 위한 프롬프트를 구성할 때 유용합니다\n",
    "- **구성 요소**: 메시지 객체로 구성되며, 각 메시지는 발신자 (사용자 또는 AI)와 메시지 내용을 포함합니다. 여러 메시지를 포함하여 대화의 맥락을 설정할 수 있습니다."
   ]
  },
  {
   "cell_type": "code",
   "execution_count": 22,
   "metadata": {},
   "outputs": [
    {
     "name": "stdout",
     "output_type": "stream",
     "text": [
      "input_variables=['topic'] messages=[SystemMessagePromptTemplate(prompt=PromptTemplate(input_variables=[], template='You are a helpful assistant')), HumanMessagePromptTemplate(prompt=PromptTemplate(input_variables=['topic'], template='Tell me a joke about {topic}'))]\n"
     ]
    }
   ],
   "source": [
    "from langchain_core.prompts import ChatPromptTemplate\n",
    "\n",
    "prompt_template = ChatPromptTemplate.from_messages([\n",
    "    (\"system\", \"You are a helpful assistant\"),\n",
    "    (\"user\", \"Tell me a joke about {topic}\")\n",
    "])\n",
    "\n",
    "prompt_template.invoke({\"topic\": \"cats\"})\n",
    "print(prompt_template)"
   ]
  },
  {
   "cell_type": "code",
   "execution_count": 23,
   "metadata": {},
   "outputs": [
    {
     "data": {
      "text/plain": [
       "ChatPromptValue(messages=[SystemMessage(content='You are a helpful assistant'), HumanMessage(content='hi!')])"
      ]
     },
     "execution_count": 23,
     "metadata": {},
     "output_type": "execute_result"
    }
   ],
   "source": [
    "from langchain_core.prompts import ChatPromptTemplate, MessagesPlaceholder\n",
    "from langchain_core.messages import HumanMessage\n",
    "\n",
    "prompt_template = ChatPromptTemplate.from_messages([\n",
    "    (\"system\", \"You are a helpful assistant\"),\n",
    "    MessagesPlaceholder(\"msgs\")\n",
    "])\n",
    "\n",
    "prompt_template.invoke({\"msgs\": [HumanMessage(content=\"hi!\")]})"
   ]
  },
  {
   "cell_type": "code",
   "execution_count": 24,
   "metadata": {},
   "outputs": [
    {
     "data": {
      "text/plain": [
       "True"
      ]
     },
     "execution_count": 24,
     "metadata": {},
     "output_type": "execute_result"
    }
   ],
   "source": [
    "from dotenv import load_dotenv\n",
    "from langchain_openai import ChatOpenAI\n",
    "from langchain_core.messages import HumanMessage\n",
    "\n",
    "load_dotenv()"
   ]
  },
  {
   "cell_type": "code",
   "execution_count": 40,
   "metadata": {},
   "outputs": [
    {
     "name": "stdout",
     "output_type": "stream",
     "text": [
      "-----Prompt from Template-----\n",
      "messages=[HumanMessage(content='1. 문서명: 주간보고서\\n2. 일시: 2024-07-01 10:00\\n3. 보고자: 김철수\\n4. 보고대상: 이영희\\n5. 보고내용: 최근 미국의 대북정책변화\\n')]\n",
      "1. 문서명: 주간보고서\n",
      "2. 일시: 2024-07-01 10:00\n",
      "3. 보고자: 김철수\n",
      "4. 보고대상: 이영희\n",
      "5. 보고내용: 최근 미국의 대북정책변화\n",
      "\n"
     ]
    }
   ],
   "source": [
    "from langchain.prompts import ChatPromptTemplate\n",
    "\n",
    "# PART 1: Create a ChatPromptTemplate using a template string\n",
    "template = \"\"\"1. 문서명: {report}\n",
    "2. 일시: {date} {time}\n",
    "3. 보고자: {reporter}\n",
    "4. 보고대상: {target}\n",
    "5. 보고내용: {content}\n",
    "\"\"\"\n",
    "prompt_template = ChatPromptTemplate.from_template(template)\n",
    "\n",
    "print(\"-----Prompt from Template-----\")\n",
    "prompt = prompt_template.invoke(\n",
    "    {\n",
    "        \"report\": \"주간보고서\",\n",
    "        \"date\": \"2024-07-01\",\n",
    "        \"time\": \"10:00\",\n",
    "        \"reporter\": \"김철수\",\n",
    "        \"target\": \"이영희\",\n",
    "        \"content\": \"최근 미국의 대북정책변화\",\n",
    "    }\n",
    ")\n",
    "print(prompt)\n",
    "\n",
    "# Prompt의 메시지 내용을 출력\n",
    "for message in prompt.messages:\n",
    "    print(message.content)"
   ]
  },
  {
   "cell_type": "code",
   "execution_count": 41,
   "metadata": {},
   "outputs": [
    {
     "name": "stdout",
     "output_type": "stream",
     "text": [
      "주간보고서\n",
      "\n",
      "1. **문서명**: 주간보고서  \n",
      "2. **일시**: 2024-07-01 10:00  \n",
      "3. **보고자**: 김철수  \n",
      "4. **보고대상**: 이영희  \n",
      "\n",
      "---\n",
      "\n",
      "### 보고내용: 최근 미국의 대북정책변화\n",
      "\n",
      "최근 미국의 대북정책에 몇 가지 주요 변화가 있었습니다.\n",
      "\n",
      "1. **정치적 접근 방식의 변화**: 바이든 행정부는 대화와 외교를 통해 북한과의 관계를 개선하려는 노력을 강화하고 있습니다. 북한의 비핵화와 관련된 협상 재개 가능성이 제기되고 있으며, 이를 위해 다양한 채널을 통해 북한과의 커뮤니케이션을 유지하고 있습니다.\n",
      "\n",
      "2. **제재 정책의 조정**: 미국은 북한의 인권 문제와 핵 개발 프로그램에 대한 제재를 지속하고 있지만, 일부 경제적 지원과 인도적 차원의 접근이 논의되고 있습니다. 이는 북한 주민들의 생활 개선을 위한 목적도 포함되어 있습니다.\n",
      "\n",
      "3. **동맹국과의 협력 강화**: 미국은 한국과 일본 등 동맹국과의 협력을 강화하며, 북한의 위협에 공동으로 대응하기 위한 전략을 모색하고 있습니다. 이를 통해 안보 문제를 다각적으로 해결하려는 노력이 있습니다.\n",
      "\n",
      "4. **군사적 전략의 변화**: 미국은 북한의 군사적 도발에 대비하여 군사적 준비태세를 유지하고 있지만, 과도한 군사적 긴장 완화를 위해 방어적인 접근 방식을 채택하고 있습니다.\n",
      "\n",
      "이러한 변화들은 북한과의 관계에 긍정적인 영향을 미칠 수 있으며, 향후 국제사회에서도 주목받을 것으로 예상됩니다.\n",
      "\n",
      "---\n",
      "\n",
      "이상입니다. 추가적인 질문이나 논의가 필요하시면 말씀해 주시기 바랍니다.\n"
     ]
    }
   ],
   "source": [
    "from langchain_openai import ChatOpenAI\n",
    "\n",
    "# Create a ChatOpenAI model\n",
    "model = ChatOpenAI(\n",
    "    model=\"gpt-4o-mini\",\n",
    ")\n",
    "weekly_report = model.invoke(prompt)\n",
    "print(weekly_report.content)"
   ]
  },
  {
   "cell_type": "code",
   "execution_count": 42,
   "metadata": {},
   "outputs": [],
   "source": [
    "from datetime import datetime\n",
    "\n",
    "# 현재 날짜와 시간 가져오기\n",
    "current_datetime = datetime.now()\n",
    "\n",
    "# 날짜만 yyyy-mm-dd 형식으로 포맷팅\n",
    "formatted_date = current_datetime.strftime(\"%Y-%m-%d\")\n",
    "\n",
    "# 시간만 hh:mm 형식으로 포맷팅\n",
    "formatted_time = current_datetime.strftime(\"%H:%M\")"
   ]
  },
  {
   "cell_type": "code",
   "execution_count": 44,
   "metadata": {},
   "outputs": [
    {
     "name": "stdout",
     "output_type": "stream",
     "text": [
      "-----Prompt from Template-----\n",
      "### 주간보고서\n",
      "\n",
      "**일시:** 2024-07-23 17:29  \n",
      "**보고자:** 김철수  \n",
      "**보고대상:** 이영희  \n",
      "\n",
      "---\n",
      "\n",
      "**보고내용: 최근 미국의 대북정책변화**\n",
      "\n",
      "최근 미국의 대북정책에 몇 가지 중요한 변화가 나타나고 있습니다. 다음은 주요 사항입니다:\n",
      "\n",
      "1. **대화 재개 의지 표명**: 미국 정부는 북한과의 대화를 재개하겠다는 의지를 여러 차례 표명하였습니다. 이는 북한의 비핵화와 관련된 새로운 협상 테이블을 마련하고자 하는 시도로 해석됩니다.\n",
      "\n",
      "2. **제재 완화 논의**: 일부 소식통에 따르면, 미국은 북한의 일정한 비핵화 조치에 따라 경제 제재를 단계적으로 완화하는 방안을 검토하고 있는 것으로 보입니다. 이는 북한의 협상 의지를 높이기 위한 전략으로 풀이됩니다.\n",
      "\n",
      "3. **동맹과의 협력 강화**: 미국은 한국 및 일본과의 협력을 더욱 강화하고 있으며, 이들 국가와의 공조를 통해 북한에 대한 압박을 지속할 계획입니다. 이를 위해 군사적 협력 및 정보 공유를 확대하고 있습니다.\n",
      "\n",
      "4. **인도적 지원 확대**: 북한의 인도적 상황을 고려하여, 미국은 인도적 지원을 확대할 가능성을 열어두고 있습니다. 다만, 이는 북한의 행동 변화에 따라 달라질 수 있습니다.\n",
      "\n",
      "5. **국제 사회와의 협력**: 미국은 대북정책에 있어 국제사회의 협력을 더욱 중시하고 있으며, 유엔 및 기타 국제기구와의 협력을 통해 북한 문제 해결을 위한 다자간 노력을 강화할 방침입니다.\n",
      "\n",
      "이와 같은 변화는 북한의 향후 행동에 큰 영향을 미칠 것으로 예상되며, 지속적인 모니터링이 필요합니다. \n",
      "\n",
      "--- \n",
      "\n",
      "**추가 사항:** 향후 관련 회의 일정 및 자료를 준비할 예정입니다. 필요시 추가 정보를 요청해 주시기 바랍니다. \n",
      "\n",
      "감사합니다.\n"
     ]
    }
   ],
   "source": [
    "print(\"-----Prompt from Template-----\")\n",
    "prompt = prompt_template.invoke(\n",
    "    {\n",
    "        \"report\": \"주간보고서\",\n",
    "        \"date\": formatted_date,\n",
    "        \"time\": formatted_time,\n",
    "        \"reporter\": \"김철수\",\n",
    "        \"target\": \"이영희\",\n",
    "        \"content\": \"최근 미국의 대북정책변화\",\n",
    "    }\n",
    ")\n",
    "\n",
    "model = ChatOpenAI(\n",
    "    model=\"gpt-4o-mini\",\n",
    ")\n",
    "weekly_report = model.invoke(prompt)\n",
    "print(weekly_report.content)"
   ]
  }
 ],
 "metadata": {
  "kernelspec": {
   "display_name": "base",
   "language": "python",
   "name": "python3"
  },
  "language_info": {
   "codemirror_mode": {
    "name": "ipython",
    "version": 3
   },
   "file_extension": ".py",
   "mimetype": "text/x-python",
   "name": "python",
   "nbconvert_exporter": "python",
   "pygments_lexer": "ipython3",
   "version": "3.11.9"
  }
 },
 "nbformat": 4,
 "nbformat_minor": 2
}
