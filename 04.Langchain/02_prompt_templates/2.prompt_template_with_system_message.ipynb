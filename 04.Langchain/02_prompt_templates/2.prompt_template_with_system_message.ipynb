{
 "cells": [
  {
   "cell_type": "markdown",
   "metadata": {},
   "source": [
    "# 프롬프트 템플릿을 사용해서 내가 원하는 형태로 다듬기\n",
    "- system message를 사용해서 내가 원하는 문서서술 형태 같은 것을 정할 수 있음\n",
    "- 관공서에서 사용하는 개조식과 같은 형태로도 주문할 수 있음.\n",
    "- ` ChatPromptTemplate.from_template`이 아닌  `ChatPromptTemplate.from_messages`  사용"
   ]
  },
  {
   "cell_type": "code",
   "execution_count": 1,
   "metadata": {},
   "outputs": [],
   "source": [
    "from dotenv import load_dotenv\n",
    "from langchain.prompts import ChatPromptTemplate\n",
    "from langchain_openai import ChatOpenAI\n",
    "\n",
    "load_dotenv()\n",
    "\n",
    "model = ChatOpenAI(model=\"gpt-4o-mini\")"
   ]
  },
  {
   "cell_type": "code",
   "execution_count": 2,
   "metadata": {},
   "outputs": [
    {
     "name": "stdout",
     "output_type": "stream",
     "text": [
      "\n",
      "----- Prompt with System and Human Messages (Tuple) -----\n",
      "\n",
      "input_variables=['content', 'date', 'report', 'reporter', 'target', 'time'] messages=[SystemMessagePromptTemplate(prompt=PromptTemplate(input_variables=[], template='\\n     너는 지금부터 최고의 국세정세분석관이야. 다음 보고서를 작성하는데, 보고내용에는\\n     너의 이름이나, 안녕하십닊까? 같은 인사말은 넣지 않아야해. \\n     보고서는 간단명료하고, 전문적인 용어를 사용해야해. \\n     보고서의 말투는 개조식으로서, 공문서내용과 같아야해.\\n     예를 들면, 북한의 러시아와 군사협력이 점점 강해지고 있다. \\n     --> 북한과 러시아의 군사협력이 강화되고 있음.\\n     이런 식의 보고서를 작성해줘.\\n     ')), HumanMessagePromptTemplate(prompt=PromptTemplate(input_variables=['content', 'date', 'report', 'reporter', 'target', 'time'], template='\\n        문서명: {report}\\n        일시: {date} {time}\\n        보고자: {reporter}\\n        보고대상: {target}\\n        보고내용: {content}\\n     '))]\n"
     ]
    }
   ],
   "source": [
    "print(\"\\n----- Prompt with System and Human Messages (Tuple) -----\\n\")\n",
    "template = [\n",
    "    (\"system\", \"\"\"\n",
    "     너는 지금부터 최고의 국세정세분석관이야. 다음 보고서를 작성하는데, 보고내용에는\n",
    "     너의 이름이나, 안녕하십닊까? 같은 인사말은 넣지 않아야해. \n",
    "     보고서는 간단명료하고, 전문적인 용어를 사용해야해. \n",
    "     보고서의 말투는 개조식으로서, 공문서내용과 같아야해.\n",
    "     예를 들면, 북한의 러시아와 군사협력이 점점 강해지고 있다. \n",
    "     --> 북한과 러시아의 군사협력이 강화되고 있음.\n",
    "     이런 식의 보고서를 작성해줘.\n",
    "     \"\"\"),\n",
    "     \n",
    "    (\"human\", \"\"\"\n",
    "        문서명: {report}\n",
    "        일시: {date} {time}\n",
    "        보고자: {reporter}\n",
    "        보고대상: {target}\n",
    "        보고내용: {content}\n",
    "     \"\"\"),\n",
    "]\n",
    "prompt_template = ChatPromptTemplate.from_messages(template)\n",
    "print(prompt_template)\n"
   ]
  },
  {
   "cell_type": "code",
   "execution_count": 3,
   "metadata": {},
   "outputs": [],
   "source": [
    "from datetime import datetime\n",
    "\n",
    "# 현재 날짜와 시간 가져오기\n",
    "current_datetime = datetime.now()\n",
    "\n",
    "# 날짜만 yyyy-mm-dd 형식으로 포맷팅\n",
    "formatted_date = current_datetime.strftime(\"%Y-%m-%d\")\n",
    "\n",
    "# 시간만 hh:mm 형식으로 포맷팅\n",
    "formatted_time = current_datetime.strftime(\"%H:%M\")"
   ]
  },
  {
   "cell_type": "code",
   "execution_count": 4,
   "metadata": {},
   "outputs": [
    {
     "name": "stdout",
     "output_type": "stream",
     "text": [
      "문서명: 주간보고서  \n",
      "일시: 2024-07-23 17:49  \n",
      "보고자: 김철수  \n",
      "보고대상: 이영희  \n",
      "\n",
      "보고내용:  \n",
      "최근 미국의 대북정책이 변화하고 있음.  \n",
      "미국 정부는 대북 제재를 강화하고 있으며, 북한의 핵 및 미사일 개발에 대한 압박을 지속하고 있음.  \n",
      "북한의 인권 문제와 관련하여 국제 사회와의 협력 강화를 시도하고 있음.  \n",
      "대화 재개를 위한 조건으로 북한의 비핵화 의지를 요구하고 있음.  \n",
      "이러한 정책 변화는 한반도 정세에 중대한 영향을 미칠 것으로 예상됨.  \n"
     ]
    }
   ],
   "source": [
    "\n",
    "prompt = prompt_template.invoke({\n",
    "    \"report\": \"주간보고서\",\n",
    "    \"date\": formatted_date,\n",
    "    \"time\": formatted_time,\n",
    "    \"reporter\": \"김철수\",\n",
    "    \"target\": \"이영희\",\n",
    "    \"content\": \"최근 미국의 대북정책변화\"\n",
    "})\n",
    "\n",
    "\n",
    "weekly_report = model.invoke(prompt)\n",
    "print(weekly_report.content)"
   ]
  },
  {
   "cell_type": "code",
   "execution_count": null,
   "metadata": {},
   "outputs": [],
   "source": []
  }
 ],
 "metadata": {
  "kernelspec": {
   "display_name": "base",
   "language": "python",
   "name": "python3"
  },
  "language_info": {
   "codemirror_mode": {
    "name": "ipython",
    "version": 3
   },
   "file_extension": ".py",
   "mimetype": "text/x-python",
   "name": "python",
   "nbconvert_exporter": "python",
   "pygments_lexer": "ipython3",
   "version": "3.11.9"
  }
 },
 "nbformat": 4,
 "nbformat_minor": 2
}
